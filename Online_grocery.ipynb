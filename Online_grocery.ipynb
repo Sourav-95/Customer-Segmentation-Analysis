{
 "cells": [
  {
   "cell_type": "markdown",
   "id": "b39acdb2",
   "metadata": {},
   "source": [
    "# Problem Statement"
   ]
  },
  {
   "cell_type": "markdown",
   "id": "76763b89-cba4-4882-8458-fcc9c5045f05",
   "metadata": {},
   "source": [
    "Company XYZ is an online grocery store that wants to improve its marketing strategies and increase customer engagement and sales. You have been given sample data to analyze. As a business analyst, we are going to analyze the provided marketing dataset and provide insights and recommendations to achieve the following objectives:"
   ]
  },
  {
   "cell_type": "markdown",
   "id": "354a5e54-d472-4272-8688-c56d142f81f6",
   "metadata": {},
   "source": [
    "### Importing Libraries & Dataset"
   ]
  },
  {
   "cell_type": "code",
   "execution_count": 1,
   "id": "2c7be216",
   "metadata": {},
   "outputs": [],
   "source": [
    "import numpy as np\n",
    "import pandas as pd\n",
    "import matplotlib.pyplot as plt\n",
    "import seaborn as sns\n",
    "from scipy.stats import skew\n",
    "\n",
    "import warnings\n",
    "warnings.simplefilter(action='ignore', category=FutureWarning)"
   ]
  },
  {
   "cell_type": "code",
   "execution_count": 2,
   "id": "6e527688",
   "metadata": {},
   "outputs": [],
   "source": [
    "#import the dataset\n",
    "df=pd.read_excel(\"Online Grocery.xlsx\")"
   ]
  },
  {
   "cell_type": "code",
   "execution_count": 3,
   "id": "c5a62939",
   "metadata": {},
   "outputs": [
    {
     "data": {
      "text/html": [
       "<div>\n",
       "<style scoped>\n",
       "    .dataframe tbody tr th:only-of-type {\n",
       "        vertical-align: middle;\n",
       "    }\n",
       "\n",
       "    .dataframe tbody tr th {\n",
       "        vertical-align: top;\n",
       "    }\n",
       "\n",
       "    .dataframe thead th {\n",
       "        text-align: right;\n",
       "    }\n",
       "</style>\n",
       "<table border=\"1\" class=\"dataframe\">\n",
       "  <thead>\n",
       "    <tr style=\"text-align: right;\">\n",
       "      <th></th>\n",
       "      <th>Customer_ID</th>\n",
       "      <th>MonthlyIncome</th>\n",
       "      <th>FamilySize</th>\n",
       "      <th>InactiveDays</th>\n",
       "      <th>Amt Fresh Produce</th>\n",
       "      <th>Amt Meat and Seafood</th>\n",
       "      <th>Amt Household Supplies</th>\n",
       "      <th>Amt Health and Wellness</th>\n",
       "      <th>Amt Beverages &amp; Frozen Food</th>\n",
       "      <th>Amt Dairy and Eggs</th>\n",
       "      <th>DiscoutCouponsAvailed</th>\n",
       "      <th>Click_MarketingCmpgn1</th>\n",
       "      <th>Click_MarketingCmpgn2</th>\n",
       "      <th>Click_MarketingCmpgn3</th>\n",
       "      <th>Click_MarketingCmpgn4</th>\n",
       "      <th>Click_MarketingCmpgn5</th>\n",
       "      <th>Complaints</th>\n",
       "      <th>Age</th>\n",
       "      <th>SubscriptionTaken</th>\n",
       "    </tr>\n",
       "  </thead>\n",
       "  <tbody>\n",
       "    <tr>\n",
       "      <th>0</th>\n",
       "      <td>1</td>\n",
       "      <td>342816</td>\n",
       "      <td>1</td>\n",
       "      <td>1</td>\n",
       "      <td>7040</td>\n",
       "      <td>43680</td>\n",
       "      <td>13760</td>\n",
       "      <td>7040</td>\n",
       "      <td>7040</td>\n",
       "      <td>0</td>\n",
       "      <td>3</td>\n",
       "      <td>0</td>\n",
       "      <td>0</td>\n",
       "      <td>0</td>\n",
       "      <td>0</td>\n",
       "      <td>0</td>\n",
       "      <td>6</td>\n",
       "      <td>45</td>\n",
       "      <td>0</td>\n",
       "    </tr>\n",
       "    <tr>\n",
       "      <th>1</th>\n",
       "      <td>2</td>\n",
       "      <td>46344</td>\n",
       "      <td>2</td>\n",
       "      <td>19</td>\n",
       "      <td>80</td>\n",
       "      <td>480</td>\n",
       "      <td>160</td>\n",
       "      <td>80</td>\n",
       "      <td>480</td>\n",
       "      <td>526</td>\n",
       "      <td>2</td>\n",
       "      <td>0</td>\n",
       "      <td>0</td>\n",
       "      <td>0</td>\n",
       "      <td>0</td>\n",
       "      <td>0</td>\n",
       "      <td>0</td>\n",
       "      <td>66</td>\n",
       "      <td>1</td>\n",
       "    </tr>\n",
       "    <tr>\n",
       "      <th>2</th>\n",
       "      <td>3</td>\n",
       "      <td>71613</td>\n",
       "      <td>5</td>\n",
       "      <td>24</td>\n",
       "      <td>3920</td>\n",
       "      <td>10160</td>\n",
       "      <td>8880</td>\n",
       "      <td>1680</td>\n",
       "      <td>3360</td>\n",
       "      <td>1449</td>\n",
       "      <td>1</td>\n",
       "      <td>0</td>\n",
       "      <td>0</td>\n",
       "      <td>0</td>\n",
       "      <td>0</td>\n",
       "      <td>0</td>\n",
       "      <td>0</td>\n",
       "      <td>55</td>\n",
       "      <td>0</td>\n",
       "    </tr>\n",
       "    <tr>\n",
       "      <th>3</th>\n",
       "      <td>4</td>\n",
       "      <td>26646</td>\n",
       "      <td>4</td>\n",
       "      <td>4</td>\n",
       "      <td>320</td>\n",
       "      <td>1600</td>\n",
       "      <td>800</td>\n",
       "      <td>240</td>\n",
       "      <td>400</td>\n",
       "      <td>0</td>\n",
       "      <td>2</td>\n",
       "      <td>0</td>\n",
       "      <td>0</td>\n",
       "      <td>0</td>\n",
       "      <td>0</td>\n",
       "      <td>0</td>\n",
       "      <td>0</td>\n",
       "      <td>36</td>\n",
       "      <td>0</td>\n",
       "    </tr>\n",
       "    <tr>\n",
       "      <th>4</th>\n",
       "      <td>5</td>\n",
       "      <td>58293</td>\n",
       "      <td>3</td>\n",
       "      <td>1</td>\n",
       "      <td>3440</td>\n",
       "      <td>9440</td>\n",
       "      <td>3680</td>\n",
       "      <td>2160</td>\n",
       "      <td>1200</td>\n",
       "      <td>1401</td>\n",
       "      <td>5</td>\n",
       "      <td>0</td>\n",
       "      <td>0</td>\n",
       "      <td>0</td>\n",
       "      <td>0</td>\n",
       "      <td>0</td>\n",
       "      <td>0</td>\n",
       "      <td>39</td>\n",
       "      <td>1</td>\n",
       "    </tr>\n",
       "  </tbody>\n",
       "</table>\n",
       "</div>"
      ],
      "text/plain": [
       "   Customer_ID  MonthlyIncome  FamilySize  InactiveDays  Amt Fresh Produce  \\\n",
       "0            1         342816           1             1               7040   \n",
       "1            2          46344           2            19                 80   \n",
       "2            3          71613           5            24               3920   \n",
       "3            4          26646           4             4                320   \n",
       "4            5          58293           3             1               3440   \n",
       "\n",
       "   Amt Meat and Seafood  Amt Household Supplies  Amt Health and Wellness  \\\n",
       "0                 43680                   13760                     7040   \n",
       "1                   480                     160                       80   \n",
       "2                 10160                    8880                     1680   \n",
       "3                  1600                     800                      240   \n",
       "4                  9440                    3680                     2160   \n",
       "\n",
       "   Amt Beverages & Frozen Food  Amt Dairy and Eggs  DiscoutCouponsAvailed  \\\n",
       "0                         7040                   0                      3   \n",
       "1                          480                 526                      2   \n",
       "2                         3360                1449                      1   \n",
       "3                          400                   0                      2   \n",
       "4                         1200                1401                      5   \n",
       "\n",
       "   Click_MarketingCmpgn1  Click_MarketingCmpgn2  Click_MarketingCmpgn3  \\\n",
       "0                      0                      0                      0   \n",
       "1                      0                      0                      0   \n",
       "2                      0                      0                      0   \n",
       "3                      0                      0                      0   \n",
       "4                      0                      0                      0   \n",
       "\n",
       "   Click_MarketingCmpgn4  Click_MarketingCmpgn5  Complaints  Age  \\\n",
       "0                      0                      0           6   45   \n",
       "1                      0                      0           0   66   \n",
       "2                      0                      0           0   55   \n",
       "3                      0                      0           0   36   \n",
       "4                      0                      0           0   39   \n",
       "\n",
       "   SubscriptionTaken  \n",
       "0                  0  \n",
       "1                  1  \n",
       "2                  0  \n",
       "3                  0  \n",
       "4                  1  "
      ]
     },
     "execution_count": 3,
     "metadata": {},
     "output_type": "execute_result"
    }
   ],
   "source": [
    "df.head()"
   ]
  },
  {
   "cell_type": "markdown",
   "id": "8be03b06",
   "metadata": {},
   "source": [
    "### Data Profiling"
   ]
  },
  {
   "cell_type": "code",
   "execution_count": 4,
   "id": "8b19cfc1",
   "metadata": {},
   "outputs": [
    {
     "name": "stdout",
     "output_type": "stream",
     "text": [
      "Rows : 2000 \n",
      "Columns : 19\n",
      "-------------------------------------------------------------------------------------------------------\n",
      "\n",
      "Information about the dataset\n",
      "\n",
      "<class 'pandas.core.frame.DataFrame'>\n",
      "RangeIndex: 2000 entries, 0 to 1999\n",
      "Data columns (total 19 columns):\n",
      " #   Column                       Non-Null Count  Dtype\n",
      "---  ------                       --------------  -----\n",
      " 0   Customer_ID                  2000 non-null   int64\n",
      " 1   MonthlyIncome                2000 non-null   int64\n",
      " 2   FamilySize                   2000 non-null   int64\n",
      " 3   InactiveDays                 2000 non-null   int64\n",
      " 4   Amt Fresh Produce            2000 non-null   int64\n",
      " 5   Amt Meat and Seafood         2000 non-null   int64\n",
      " 6   Amt Household Supplies       2000 non-null   int64\n",
      " 7   Amt Health and Wellness      2000 non-null   int64\n",
      " 8   Amt Beverages & Frozen Food  2000 non-null   int64\n",
      " 9   Amt Dairy and Eggs           2000 non-null   int64\n",
      " 10  DiscoutCouponsAvailed        2000 non-null   int64\n",
      " 11  Click_MarketingCmpgn1        2000 non-null   int64\n",
      " 12  Click_MarketingCmpgn2        2000 non-null   int64\n",
      " 13  Click_MarketingCmpgn3        2000 non-null   int64\n",
      " 14  Click_MarketingCmpgn4        2000 non-null   int64\n",
      " 15  Click_MarketingCmpgn5        2000 non-null   int64\n",
      " 16  Complaints                   2000 non-null   int64\n",
      " 17  Age                          2000 non-null   int64\n",
      " 18  SubscriptionTaken            2000 non-null   int64\n",
      "dtypes: int64(19)\n",
      "memory usage: 297.0 KB\n",
      "None\n",
      "-------------------------------------------------------------------------------------------------------\n",
      "Description about the dataset\n"
     ]
    },
    {
     "data": {
      "text/html": [
       "<div>\n",
       "<style scoped>\n",
       "    .dataframe tbody tr th:only-of-type {\n",
       "        vertical-align: middle;\n",
       "    }\n",
       "\n",
       "    .dataframe tbody tr th {\n",
       "        vertical-align: top;\n",
       "    }\n",
       "\n",
       "    .dataframe thead th {\n",
       "        text-align: right;\n",
       "    }\n",
       "</style>\n",
       "<table border=\"1\" class=\"dataframe\">\n",
       "  <thead>\n",
       "    <tr style=\"text-align: right;\">\n",
       "      <th></th>\n",
       "      <th>count</th>\n",
       "      <th>mean</th>\n",
       "      <th>std</th>\n",
       "      <th>min</th>\n",
       "      <th>25%</th>\n",
       "      <th>50%</th>\n",
       "      <th>75%</th>\n",
       "      <th>max</th>\n",
       "    </tr>\n",
       "  </thead>\n",
       "  <tbody>\n",
       "    <tr>\n",
       "      <th>Customer_ID</th>\n",
       "      <td>2000.0</td>\n",
       "      <td>1000.5000</td>\n",
       "      <td>577.494589</td>\n",
       "      <td>1.0</td>\n",
       "      <td>500.75</td>\n",
       "      <td>1000.5</td>\n",
       "      <td>1500.25</td>\n",
       "      <td>2000.0</td>\n",
       "    </tr>\n",
       "    <tr>\n",
       "      <th>MonthlyIncome</th>\n",
       "      <td>2000.0</td>\n",
       "      <td>64179.5015</td>\n",
       "      <td>43730.428983</td>\n",
       "      <td>1730.0</td>\n",
       "      <td>35376.00</td>\n",
       "      <td>51342.0</td>\n",
       "      <td>70677.75</td>\n",
       "      <td>342816.0</td>\n",
       "    </tr>\n",
       "    <tr>\n",
       "      <th>FamilySize</th>\n",
       "      <td>2000.0</td>\n",
       "      <td>3.0280</td>\n",
       "      <td>1.417823</td>\n",
       "      <td>1.0</td>\n",
       "      <td>2.00</td>\n",
       "      <td>3.0</td>\n",
       "      <td>4.00</td>\n",
       "      <td>5.0</td>\n",
       "    </tr>\n",
       "    <tr>\n",
       "      <th>InactiveDays</th>\n",
       "      <td>2000.0</td>\n",
       "      <td>11.7655</td>\n",
       "      <td>15.231497</td>\n",
       "      <td>1.0</td>\n",
       "      <td>1.00</td>\n",
       "      <td>1.0</td>\n",
       "      <td>20.00</td>\n",
       "      <td>99.0</td>\n",
       "    </tr>\n",
       "    <tr>\n",
       "      <th>Amt Fresh Produce</th>\n",
       "      <td>2000.0</td>\n",
       "      <td>2112.0400</td>\n",
       "      <td>3186.886688</td>\n",
       "      <td>0.0</td>\n",
       "      <td>160.00</td>\n",
       "      <td>640.0</td>\n",
       "      <td>2640.00</td>\n",
       "      <td>15920.0</td>\n",
       "    </tr>\n",
       "    <tr>\n",
       "      <th>Amt Meat and Seafood</th>\n",
       "      <td>2000.0</td>\n",
       "      <td>13284.6400</td>\n",
       "      <td>17505.303959</td>\n",
       "      <td>0.0</td>\n",
       "      <td>1280.00</td>\n",
       "      <td>5440.0</td>\n",
       "      <td>18800.00</td>\n",
       "      <td>138000.0</td>\n",
       "    </tr>\n",
       "    <tr>\n",
       "      <th>Amt Household Supplies</th>\n",
       "      <td>2000.0</td>\n",
       "      <td>3026.9600</td>\n",
       "      <td>4389.141857</td>\n",
       "      <td>0.0</td>\n",
       "      <td>240.00</td>\n",
       "      <td>960.0</td>\n",
       "      <td>4000.00</td>\n",
       "      <td>20720.0</td>\n",
       "    </tr>\n",
       "    <tr>\n",
       "      <th>Amt Health and Wellness</th>\n",
       "      <td>2000.0</td>\n",
       "      <td>2200.6400</td>\n",
       "      <td>3331.947918</td>\n",
       "      <td>0.0</td>\n",
       "      <td>80.00</td>\n",
       "      <td>680.0</td>\n",
       "      <td>2720.00</td>\n",
       "      <td>20960.0</td>\n",
       "    </tr>\n",
       "    <tr>\n",
       "      <th>Amt Beverages &amp; Frozen Food</th>\n",
       "      <td>2000.0</td>\n",
       "      <td>3491.2800</td>\n",
       "      <td>4095.411256</td>\n",
       "      <td>0.0</td>\n",
       "      <td>720.00</td>\n",
       "      <td>1920.0</td>\n",
       "      <td>4480.00</td>\n",
       "      <td>25680.0</td>\n",
       "    </tr>\n",
       "    <tr>\n",
       "      <th>Amt Dairy and Eggs</th>\n",
       "      <td>2000.0</td>\n",
       "      <td>586.2660</td>\n",
       "      <td>914.020408</td>\n",
       "      <td>0.0</td>\n",
       "      <td>0.00</td>\n",
       "      <td>504.0</td>\n",
       "      <td>714.75</td>\n",
       "      <td>6529.0</td>\n",
       "    </tr>\n",
       "    <tr>\n",
       "      <th>DiscoutCouponsAvailed</th>\n",
       "      <td>2000.0</td>\n",
       "      <td>2.3140</td>\n",
       "      <td>1.902949</td>\n",
       "      <td>0.0</td>\n",
       "      <td>1.00</td>\n",
       "      <td>2.0</td>\n",
       "      <td>3.00</td>\n",
       "      <td>15.0</td>\n",
       "    </tr>\n",
       "    <tr>\n",
       "      <th>Click_MarketingCmpgn1</th>\n",
       "      <td>2000.0</td>\n",
       "      <td>0.0720</td>\n",
       "      <td>0.258553</td>\n",
       "      <td>0.0</td>\n",
       "      <td>0.00</td>\n",
       "      <td>0.0</td>\n",
       "      <td>0.00</td>\n",
       "      <td>1.0</td>\n",
       "    </tr>\n",
       "    <tr>\n",
       "      <th>Click_MarketingCmpgn2</th>\n",
       "      <td>2000.0</td>\n",
       "      <td>0.0740</td>\n",
       "      <td>0.261836</td>\n",
       "      <td>0.0</td>\n",
       "      <td>0.00</td>\n",
       "      <td>0.0</td>\n",
       "      <td>0.00</td>\n",
       "      <td>1.0</td>\n",
       "    </tr>\n",
       "    <tr>\n",
       "      <th>Click_MarketingCmpgn3</th>\n",
       "      <td>2000.0</td>\n",
       "      <td>0.0730</td>\n",
       "      <td>0.260202</td>\n",
       "      <td>0.0</td>\n",
       "      <td>0.00</td>\n",
       "      <td>0.0</td>\n",
       "      <td>0.00</td>\n",
       "      <td>1.0</td>\n",
       "    </tr>\n",
       "    <tr>\n",
       "      <th>Click_MarketingCmpgn4</th>\n",
       "      <td>2000.0</td>\n",
       "      <td>0.0650</td>\n",
       "      <td>0.246588</td>\n",
       "      <td>0.0</td>\n",
       "      <td>0.00</td>\n",
       "      <td>0.0</td>\n",
       "      <td>0.00</td>\n",
       "      <td>1.0</td>\n",
       "    </tr>\n",
       "    <tr>\n",
       "      <th>Click_MarketingCmpgn5</th>\n",
       "      <td>2000.0</td>\n",
       "      <td>0.0130</td>\n",
       "      <td>0.113302</td>\n",
       "      <td>0.0</td>\n",
       "      <td>0.00</td>\n",
       "      <td>0.0</td>\n",
       "      <td>0.00</td>\n",
       "      <td>1.0</td>\n",
       "    </tr>\n",
       "    <tr>\n",
       "      <th>Complaints</th>\n",
       "      <td>2000.0</td>\n",
       "      <td>0.7160</td>\n",
       "      <td>2.128758</td>\n",
       "      <td>0.0</td>\n",
       "      <td>0.00</td>\n",
       "      <td>0.0</td>\n",
       "      <td>0.00</td>\n",
       "      <td>10.0</td>\n",
       "    </tr>\n",
       "    <tr>\n",
       "      <th>Age</th>\n",
       "      <td>2000.0</td>\n",
       "      <td>51.0545</td>\n",
       "      <td>11.692129</td>\n",
       "      <td>24.0</td>\n",
       "      <td>43.00</td>\n",
       "      <td>50.0</td>\n",
       "      <td>60.00</td>\n",
       "      <td>80.0</td>\n",
       "    </tr>\n",
       "    <tr>\n",
       "      <th>SubscriptionTaken</th>\n",
       "      <td>2000.0</td>\n",
       "      <td>0.4270</td>\n",
       "      <td>0.494766</td>\n",
       "      <td>0.0</td>\n",
       "      <td>0.00</td>\n",
       "      <td>0.0</td>\n",
       "      <td>1.00</td>\n",
       "      <td>1.0</td>\n",
       "    </tr>\n",
       "  </tbody>\n",
       "</table>\n",
       "</div>"
      ],
      "text/plain": [
       "                              count        mean           std     min  \\\n",
       "Customer_ID                  2000.0   1000.5000    577.494589     1.0   \n",
       "MonthlyIncome                2000.0  64179.5015  43730.428983  1730.0   \n",
       "FamilySize                   2000.0      3.0280      1.417823     1.0   \n",
       "InactiveDays                 2000.0     11.7655     15.231497     1.0   \n",
       "Amt Fresh Produce            2000.0   2112.0400   3186.886688     0.0   \n",
       "Amt Meat and Seafood         2000.0  13284.6400  17505.303959     0.0   \n",
       "Amt Household Supplies       2000.0   3026.9600   4389.141857     0.0   \n",
       "Amt Health and Wellness      2000.0   2200.6400   3331.947918     0.0   \n",
       "Amt Beverages & Frozen Food  2000.0   3491.2800   4095.411256     0.0   \n",
       "Amt Dairy and Eggs           2000.0    586.2660    914.020408     0.0   \n",
       "DiscoutCouponsAvailed        2000.0      2.3140      1.902949     0.0   \n",
       "Click_MarketingCmpgn1        2000.0      0.0720      0.258553     0.0   \n",
       "Click_MarketingCmpgn2        2000.0      0.0740      0.261836     0.0   \n",
       "Click_MarketingCmpgn3        2000.0      0.0730      0.260202     0.0   \n",
       "Click_MarketingCmpgn4        2000.0      0.0650      0.246588     0.0   \n",
       "Click_MarketingCmpgn5        2000.0      0.0130      0.113302     0.0   \n",
       "Complaints                   2000.0      0.7160      2.128758     0.0   \n",
       "Age                          2000.0     51.0545     11.692129    24.0   \n",
       "SubscriptionTaken            2000.0      0.4270      0.494766     0.0   \n",
       "\n",
       "                                  25%      50%       75%       max  \n",
       "Customer_ID                    500.75   1000.5   1500.25    2000.0  \n",
       "MonthlyIncome                35376.00  51342.0  70677.75  342816.0  \n",
       "FamilySize                       2.00      3.0      4.00       5.0  \n",
       "InactiveDays                     1.00      1.0     20.00      99.0  \n",
       "Amt Fresh Produce              160.00    640.0   2640.00   15920.0  \n",
       "Amt Meat and Seafood          1280.00   5440.0  18800.00  138000.0  \n",
       "Amt Household Supplies         240.00    960.0   4000.00   20720.0  \n",
       "Amt Health and Wellness         80.00    680.0   2720.00   20960.0  \n",
       "Amt Beverages & Frozen Food    720.00   1920.0   4480.00   25680.0  \n",
       "Amt Dairy and Eggs               0.00    504.0    714.75    6529.0  \n",
       "DiscoutCouponsAvailed            1.00      2.0      3.00      15.0  \n",
       "Click_MarketingCmpgn1            0.00      0.0      0.00       1.0  \n",
       "Click_MarketingCmpgn2            0.00      0.0      0.00       1.0  \n",
       "Click_MarketingCmpgn3            0.00      0.0      0.00       1.0  \n",
       "Click_MarketingCmpgn4            0.00      0.0      0.00       1.0  \n",
       "Click_MarketingCmpgn5            0.00      0.0      0.00       1.0  \n",
       "Complaints                       0.00      0.0      0.00      10.0  \n",
       "Age                             43.00     50.0     60.00      80.0  \n",
       "SubscriptionTaken                0.00      0.0      1.00       1.0  "
      ]
     },
     "execution_count": 4,
     "metadata": {},
     "output_type": "execute_result"
    }
   ],
   "source": [
    "#dimension of the dataset\n",
    "print(\"Rows :\", df.shape[0],\"\\nColumns :\",df.shape[1])\n",
    "print('-------------------------------------------------------------------------------------------------------')\n",
    "\n",
    "#information about the dataset\n",
    "print('\\nInformation about the dataset\\n')\n",
    "print (df.info())\n",
    "print('-------------------------------------------------------------------------------------------------------')\n",
    "\n",
    "#descriptive statistics of the dataset\n",
    "print('Description about the dataset')\n",
    "df.describe().T"
   ]
  },
  {
   "cell_type": "markdown",
   "id": "c92e5c3d",
   "metadata": {},
   "source": [
    "    There are no null records in the dataset"
   ]
  },
  {
   "cell_type": "code",
   "execution_count": 5,
   "id": "c1a04bf1",
   "metadata": {},
   "outputs": [],
   "source": [
    "#display upto 2 decimal place\n",
    "pd.set_option('display.float_format', lambda x: '%.2f' % x)"
   ]
  },
  {
   "cell_type": "markdown",
   "id": "e01db1d2",
   "metadata": {},
   "source": [
    "**Observation**\n",
    "1. There are 2000 records of data with 19 features.\n",
    "2. There are also few outliers in the dataset which need to be taken care.\n",
    "3. There are no missing value or duplicate records present in the dataset"
   ]
  },
  {
   "cell_type": "markdown",
   "id": "b8a7c32e",
   "metadata": {},
   "source": [
    "## 1. Identification of Customer Segment"
   ]
  },
  {
   "cell_type": "markdown",
   "id": "05fe6ad0-9b26-4147-a800-2d2d31427355",
   "metadata": {},
   "source": [
    "### 1.1 EDA for Customer Segmentation"
   ]
  },
  {
   "cell_type": "markdown",
   "id": "80726331",
   "metadata": {},
   "source": [
    "#### Distrtibution of Monthly Income"
   ]
  },
  {
   "cell_type": "code",
   "execution_count": 6,
   "id": "dbac53ff",
   "metadata": {},
   "outputs": [],
   "source": [
    "sns.set(style=\"darkgrid\")"
   ]
  },
  {
   "cell_type": "code",
   "execution_count": 7,
   "id": "9d54b576",
   "metadata": {
    "scrolled": false
   },
   "outputs": [
    {
     "data": {
      "image/png": "[encoded data removed]",
      "text/plain": [
       "<Figure size 1296x432 with 2 Axes>"
      ]
     },
     "metadata": {},
     "output_type": "display_data"
    }
   ],
   "source": [
    "#Monthly income\n",
    "plt.figure(figsize=(18,6))\n",
    "plt.subplot(121)\n",
    "plt.title (\"Frequency Distribution of Monthly Income\", fontsize=14)\n",
    "plt.ylabel(\"Frequency\")\n",
    "plt.xlabel(\"Income/Month in (Rs.)\", fontsize=12)\n",
    "sns.histplot(df.MonthlyIncome, kde=True);\n",
    "\n",
    "plt.subplot(122)\n",
    "plt.title(\"Boxplot: MonthylyIncome\", fontsize=14)\n",
    "sns.boxplot(df.MonthlyIncome);\n",
    "\n",
    "plt.savefig('monthlyincome_histplot_boxplot.jpg')"
   ]
  },
  {
   "cell_type": "markdown",
   "id": "00cb1fbf-7d01-41f1-ac9b-685aa406b759",
   "metadata": {},
   "source": [
    "    There is an extreme outlier of MonthlyIncome above 300K which can error in accuracy of the analysis. Hence we are going to drop this particular record with such extreme outlier. \n",
    "    Also we are going to perform K-Means Clustering which works on euclidean distance, extreme outlier can also cause error in segmentation hence we are going to remove the single outlier"
   ]
  },
  {
   "cell_type": "markdown",
   "id": "9a4035b6",
   "metadata": {},
   "source": [
    "**Ratio of IncomeStatus**"
   ]
  },
  {
   "cell_type": "code",
   "execution_count": 8,
   "id": "7765e9c4",
   "metadata": {},
   "outputs": [],
   "source": [
    "high_income = pd.DataFrame(np.where(df['MonthlyIncome']>100000, '1', '0'))"
   ]
  },
  {
   "cell_type": "code",
   "execution_count": 9,
   "id": "b4cc7196",
   "metadata": {},
   "outputs": [
    {
     "data": {
      "image/png": "[encoded data removed]",
      "text/plain": [
       "<Figure size 432x288 with 1 Axes>"
      ]
     },
     "metadata": {},
     "output_type": "display_data"
    }
   ],
   "source": [
    "high_income.value_counts().plot(kind='pie', title = 'IncomeRatio of all Customers', \n",
    "                                              labels=['low_income','high_income'], \n",
    "                                              explode=(0.1,0), autopct='%.2f%%', ylabel='Status');\n",
    "plt.savefig('Piechart_MonthlyIncome.jpg')"
   ]
  },
  {
   "cell_type": "markdown",
   "id": "c2820e0b-9c1e-42eb-8d5a-01834b4c30db",
   "metadata": {},
   "source": [
    "##### **Outlier Treatment**"
   ]
  },
  {
   "cell_type": "code",
   "execution_count": 10,
   "id": "0d2149d2",
   "metadata": {},
   "outputs": [
    {
     "data": {
      "text/html": [
       "<div>\n",
       "<style scoped>\n",
       "    .dataframe tbody tr th:only-of-type {\n",
       "        vertical-align: middle;\n",
       "    }\n",
       "\n",
       "    .dataframe tbody tr th {\n",
       "        vertical-align: top;\n",
       "    }\n",
       "\n",
       "    .dataframe thead th {\n",
       "        text-align: right;\n",
       "    }\n",
       "</style>\n",
       "<table border=\"1\" class=\"dataframe\">\n",
       "  <thead>\n",
       "    <tr style=\"text-align: right;\">\n",
       "      <th></th>\n",
       "      <th>Customer_ID</th>\n",
       "      <th>MonthlyIncome</th>\n",
       "      <th>FamilySize</th>\n",
       "      <th>InactiveDays</th>\n",
       "      <th>Amt Fresh Produce</th>\n",
       "      <th>Amt Meat and Seafood</th>\n",
       "      <th>Amt Household Supplies</th>\n",
       "      <th>Amt Health and Wellness</th>\n",
       "      <th>Amt Beverages &amp; Frozen Food</th>\n",
       "      <th>Amt Dairy and Eggs</th>\n",
       "      <th>DiscoutCouponsAvailed</th>\n",
       "      <th>Click_MarketingCmpgn1</th>\n",
       "      <th>Click_MarketingCmpgn2</th>\n",
       "      <th>Click_MarketingCmpgn3</th>\n",
       "      <th>Click_MarketingCmpgn4</th>\n",
       "      <th>Click_MarketingCmpgn5</th>\n",
       "      <th>Complaints</th>\n",
       "      <th>Age</th>\n",
       "      <th>SubscriptionTaken</th>\n",
       "    </tr>\n",
       "  </thead>\n",
       "  <tbody>\n",
       "    <tr>\n",
       "      <th>0</th>\n",
       "      <td>2</td>\n",
       "      <td>46344</td>\n",
       "      <td>2</td>\n",
       "      <td>19</td>\n",
       "      <td>80</td>\n",
       "      <td>480</td>\n",
       "      <td>160</td>\n",
       "      <td>80</td>\n",
       "      <td>480</td>\n",
       "      <td>526</td>\n",
       "      <td>2</td>\n",
       "      <td>0</td>\n",
       "      <td>0</td>\n",
       "      <td>0</td>\n",
       "      <td>0</td>\n",
       "      <td>0</td>\n",
       "      <td>0</td>\n",
       "      <td>66</td>\n",
       "      <td>1</td>\n",
       "    </tr>\n",
       "    <tr>\n",
       "      <th>1</th>\n",
       "      <td>3</td>\n",
       "      <td>71613</td>\n",
       "      <td>5</td>\n",
       "      <td>24</td>\n",
       "      <td>3920</td>\n",
       "      <td>10160</td>\n",
       "      <td>8880</td>\n",
       "      <td>1680</td>\n",
       "      <td>3360</td>\n",
       "      <td>1449</td>\n",
       "      <td>1</td>\n",
       "      <td>0</td>\n",
       "      <td>0</td>\n",
       "      <td>0</td>\n",
       "      <td>0</td>\n",
       "      <td>0</td>\n",
       "      <td>0</td>\n",
       "      <td>55</td>\n",
       "      <td>0</td>\n",
       "    </tr>\n",
       "    <tr>\n",
       "      <th>2</th>\n",
       "      <td>4</td>\n",
       "      <td>26646</td>\n",
       "      <td>4</td>\n",
       "      <td>4</td>\n",
       "      <td>320</td>\n",
       "      <td>1600</td>\n",
       "      <td>800</td>\n",
       "      <td>240</td>\n",
       "      <td>400</td>\n",
       "      <td>0</td>\n",
       "      <td>2</td>\n",
       "      <td>0</td>\n",
       "      <td>0</td>\n",
       "      <td>0</td>\n",
       "      <td>0</td>\n",
       "      <td>0</td>\n",
       "      <td>0</td>\n",
       "      <td>36</td>\n",
       "      <td>0</td>\n",
       "    </tr>\n",
       "    <tr>\n",
       "      <th>3</th>\n",
       "      <td>5</td>\n",
       "      <td>58293</td>\n",
       "      <td>3</td>\n",
       "      <td>1</td>\n",
       "      <td>3440</td>\n",
       "      <td>9440</td>\n",
       "      <td>3680</td>\n",
       "      <td>2160</td>\n",
       "      <td>1200</td>\n",
       "      <td>1401</td>\n",
       "      <td>5</td>\n",
       "      <td>0</td>\n",
       "      <td>0</td>\n",
       "      <td>0</td>\n",
       "      <td>0</td>\n",
       "      <td>0</td>\n",
       "      <td>0</td>\n",
       "      <td>39</td>\n",
       "      <td>1</td>\n",
       "    </tr>\n",
       "    <tr>\n",
       "      <th>4</th>\n",
       "      <td>6</td>\n",
       "      <td>62513</td>\n",
       "      <td>3</td>\n",
       "      <td>1</td>\n",
       "      <td>3360</td>\n",
       "      <td>7840</td>\n",
       "      <td>0</td>\n",
       "      <td>3360</td>\n",
       "      <td>1120</td>\n",
       "      <td>0</td>\n",
       "      <td>2</td>\n",
       "      <td>0</td>\n",
       "      <td>0</td>\n",
       "      <td>0</td>\n",
       "      <td>0</td>\n",
       "      <td>0</td>\n",
       "      <td>0</td>\n",
       "      <td>53</td>\n",
       "      <td>0</td>\n",
       "    </tr>\n",
       "  </tbody>\n",
       "</table>\n",
       "</div>"
      ],
      "text/plain": [
       "   Customer_ID  MonthlyIncome  FamilySize  InactiveDays  Amt Fresh Produce  \\\n",
       "0            2          46344           2            19                 80   \n",
       "1            3          71613           5            24               3920   \n",
       "2            4          26646           4             4                320   \n",
       "3            5          58293           3             1               3440   \n",
       "4            6          62513           3             1               3360   \n",
       "\n",
       "   Amt Meat and Seafood  Amt Household Supplies  Amt Health and Wellness  \\\n",
       "0                   480                     160                       80   \n",
       "1                 10160                    8880                     1680   \n",
       "2                  1600                     800                      240   \n",
       "3                  9440                    3680                     2160   \n",
       "4                  7840                       0                     3360   \n",
       "\n",
       "   Amt Beverages & Frozen Food  Amt Dairy and Eggs  DiscoutCouponsAvailed  \\\n",
       "0                          480                 526                      2   \n",
       "1                         3360                1449                      1   \n",
       "2                          400                   0                      2   \n",
       "3                         1200                1401                      5   \n",
       "4                         1120                   0                      2   \n",
       "\n",
       "   Click_MarketingCmpgn1  Click_MarketingCmpgn2  Click_MarketingCmpgn3  \\\n",
       "0                      0                      0                      0   \n",
       "1                      0                      0                      0   \n",
       "2                      0                      0                      0   \n",
       "3                      0                      0                      0   \n",
       "4                      0                      0                      0   \n",
       "\n",
       "   Click_MarketingCmpgn4  Click_MarketingCmpgn5  Complaints  Age  \\\n",
       "0                      0                      0           0   66   \n",
       "1                      0                      0           0   55   \n",
       "2                      0                      0           0   36   \n",
       "3                      0                      0           0   39   \n",
       "4                      0                      0           0   53   \n",
       "\n",
       "   SubscriptionTaken  \n",
       "0                  1  \n",
       "1                  0  \n",
       "2                  0  \n",
       "3                  1  \n",
       "4                  0  "
      ]
     },
     "execution_count": 10,
     "metadata": {},
     "output_type": "execute_result"
    }
   ],
   "source": [
    "index = df[df.MonthlyIncome>300000].index\n",
    "\n",
    "# dropping the record having such extreme oulier\n",
    "df.drop(index, axis=0, inplace=True)\n",
    "\n",
    "# reset index\n",
    "df.reset_index(drop=True, inplace=True)\n",
    "\n",
    "df.head()"
   ]
  },
  {
   "cell_type": "markdown",
   "id": "2f34e29b",
   "metadata": {},
   "source": [
    "#### Distribution of FamilySize"
   ]
  },
  {
   "cell_type": "code",
   "execution_count": 11,
   "id": "20bdb4b9",
   "metadata": {},
   "outputs": [
    {
     "data": {
      "image/png": "[encoded data removed]",
      "text/plain": [
       "<Figure size 432x288 with 1 Axes>"
      ]
     },
     "metadata": {},
     "output_type": "display_data"
    }
   ],
   "source": [
    "#Family Size\n",
    "plt.title (\"Countplot of Family Size\", fontsize=14)\n",
    "\n",
    "sns.countplot(df.FamilySize);\n",
    "# value_counts\n",
    "df.FamilySize.value_counts()\n",
    "\n",
    "plt.savefig('FamilySizeCountplot.jpg')"
   ]
  },
  {
   "cell_type": "markdown",
   "id": "e42c2946",
   "metadata": {},
   "source": [
    "##### **Is there any co relation between Monthly Income & Family Size ?**"
   ]
  },
  {
   "cell_type": "code",
   "execution_count": 12,
   "id": "973cc02b",
   "metadata": {},
   "outputs": [
    {
     "data": {
      "image/png": "[encoded data removed]",
      "text/plain": [
       "<Figure size 432x288 with 1 Axes>"
      ]
     },
     "metadata": {},
     "output_type": "display_data"
    }
   ],
   "source": [
    "df.MonthlyIncome[df.FamilySize==1].plot(kind='kde')\n",
    "df.MonthlyIncome[df.FamilySize==2].plot(kind='kde')\n",
    "df.MonthlyIncome[df.FamilySize==3].plot(kind='kde')\n",
    "df.MonthlyIncome[df.FamilySize==4].plot(kind='kde')\n",
    "df.MonthlyIncome[df.FamilySize==5].plot(kind='kde')\n",
    "plt.title(\"MontlyIncome & FamilySize PDF\")\n",
    "plt.xlabel(\"Distribution\")\n",
    "plt.legend(['FamilySize 1','FamilySize 2','FamilySize 3','FamilySize 4','FamilySize 5'])\n",
    "\n",
    "plt.savefig('Familysize_Income.jpg')"
   ]
  },
  {
   "cell_type": "code",
   "execution_count": 13,
   "id": "0aceb174",
   "metadata": {},
   "outputs": [
    {
     "data": {
      "text/plain": [
       "FamilySize\n",
       "1   66897.85\n",
       "2   63263.20\n",
       "3   64148.45\n",
       "4   61109.03\n",
       "5   65007.87\n",
       "Name: MonthlyIncome, dtype: float64"
      ]
     },
     "execution_count": 13,
     "metadata": {},
     "output_type": "execute_result"
    }
   ],
   "source": [
    "#monthly income of the families according to their size\n",
    "family_income = df.groupby('FamilySize')['MonthlyIncome'].mean()\n",
    "family_income"
   ]
  },
  {
   "cell_type": "markdown",
   "id": "2d2a360d",
   "metadata": {},
   "source": [
    "#### Distribution of Inactive Days"
   ]
  },
  {
   "cell_type": "code",
   "execution_count": 14,
   "id": "4c99025b",
   "metadata": {},
   "outputs": [
    {
     "data": {
      "image/png": "[encoded data removed]",
      "text/plain": [
       "<Figure size 432x288 with 1 Axes>"
      ]
     },
     "metadata": {},
     "output_type": "display_data"
    }
   ],
   "source": [
    "#Inactive Days\n",
    "df.InactiveDays.plot(kind='hist', bins=50);\n",
    "plt.title(\"Distribution of 'Inactive Days'\")\n",
    "plt.xlabel(\"No. of Days\")\n",
    "plt.savefig('InactiveDays_histplot.jpg')"
   ]
  },
  {
   "cell_type": "markdown",
   "id": "89514cd9",
   "metadata": {},
   "source": [
    "#### Distribution Plot of Age"
   ]
  },
  {
   "cell_type": "code",
   "execution_count": 15,
   "id": "2f2d7d5b",
   "metadata": {},
   "outputs": [
    {
     "data": {
      "image/png": "[encoded data removed]",
      "text/plain": [
       "<Figure size 1296x432 with 2 Axes>"
      ]
     },
     "metadata": {},
     "output_type": "display_data"
    }
   ],
   "source": [
    "plt.figure(figsize=(18,6))\n",
    "plt.subplot(121)\n",
    "sns.histplot(df.Age);\n",
    "plt.title(\"Distribtion of Age\")\n",
    "plt.xlabel(\"Age\")\n",
    "\n",
    "plt.subplot(122)\n",
    "sns.boxplot(df.Age);\n",
    "\n",
    "plt.savefig('age_hist_boxplot.jpg')"
   ]
  },
  {
   "cell_type": "markdown",
   "id": "c576ff3b",
   "metadata": {},
   "source": [
    "##### **Is there any co relation between the Age and InactiveDays ??**"
   ]
  },
  {
   "cell_type": "code",
   "execution_count": 16,
   "id": "7c13e1cc",
   "metadata": {},
   "outputs": [
    {
     "data": {
      "image/png": "[encoded data removed]",
      "text/plain": [
       "<Figure size 432x288 with 1 Axes>"
      ]
     },
     "metadata": {},
     "output_type": "display_data"
    }
   ],
   "source": [
    "plt.title(\"Scatterplot: Age & InactiveDays\", fontsize=14)\n",
    "sns.scatterplot(data=df, x='Age', y='InactiveDays');\n",
    "plt.savefig('Age_inactiveity.jpg')"
   ]
  },
  {
   "cell_type": "markdown",
   "id": "5cfacdc9-060b-4fe3-bb28-63a265a92ab5",
   "metadata": {},
   "source": [
    "##### **Is there any kind of pattern between Age and MonthlyIncome ??**"
   ]
  },
  {
   "cell_type": "code",
   "execution_count": 17,
   "id": "d9864e3c",
   "metadata": {},
   "outputs": [
    {
     "data": {
      "image/png": "[encoded data removed]",
      "text/plain": [
       "<Figure size 432x288 with 1 Axes>"
      ]
     },
     "metadata": {},
     "output_type": "display_data"
    }
   ],
   "source": [
    "sns.scatterplot(data=df, x='Age', y='MonthlyIncome');\n",
    "plt.title('MonthlyIncome by AgeGroup')\n",
    "plt.savefig('Income_Age.jpg')"
   ]
  },
  {
   "cell_type": "markdown",
   "id": "982daf93",
   "metadata": {},
   "source": [
    "#### **Observation**\n",
    "- The distribution of **`MonthlyIncome`** is *'Bimodal'*. Hence its clearly indicates that there are two categories of people with Purchasing power.\n",
    "    * People with **average monthly income of 50k** have less purchasing power\n",
    "    * Another category of peole with **avg. monthly income of 150K** can have high purchasing power\n",
    "- There is one **extreme outlier(above 3L)** which have been eliminated for predicting segments of groups\n",
    "    \n",
    "- The Distribution of the **`FamilySize`** is Normal.\n",
    "\n",
    "- There is no strong pattern between MonthlyIncome of the Family and size of the Family which can be clearly interpretated from the overlapping density plot of MonthlyIncome with diferrent family size.\n",
    "\n",
    "- More than 50% of the Customers are active (1000 approx) which is a good indicator to segment **`Active`** & **`Inactive`** Customers. \n",
    "- The distribution of the Age is *'Multimodal'* and no outlier is present in the dataset.\n",
    "    * Most of the Inactive customers are above 45 years of Age.\n",
    "    \n",
    "*Note - These are Preliminary insight to gain a visual understanding of the Dataset. We are going to perform Clustering Analysis using K-Means Clustering Algorithm*"
   ]
  },
  {
   "cell_type": "markdown",
   "id": "ed139adb-96e3-496d-a404-31d40eb54bf3",
   "metadata": {},
   "source": [
    "### 1.2 K-Means Clustering"
   ]
  },
  {
   "cell_type": "markdown",
   "id": "58189363-5bf1-49a3-8abb-347e72393ce6",
   "metadata": {},
   "source": [
    "#### 1.2.1 Feature Engineering for evaluating Clusters"
   ]
  },
  {
   "cell_type": "code",
   "execution_count": 18,
   "id": "03f1bd69-6f67-4bc9-af40-e62245703c9b",
   "metadata": {},
   "outputs": [
    {
     "name": "stdout",
     "output_type": "stream",
     "text": [
      "Columns with Amount expenses are: ['Amt Fresh Produce', 'Amt Meat and Seafood', 'Amt Household Supplies', 'Amt Health and Wellness', 'Amt Beverages & Frozen Food', 'Amt Dairy and Eggs']\n"
     ]
    }
   ],
   "source": [
    "# list of the columns having 'Amt'\n",
    "amt_cols = [k for k in df.columns if 'Amt' in k]\n",
    "print('Columns with Amount expenses are:', amt_cols)\n",
    "\n",
    "# initializing a seperate column Total Amount which is a summation of all the Amt Columns to give the Total Spending of the Customer\n",
    "df['TotalAmt']=0\n",
    "\n",
    "# summation of the Columns with 'Amt'\n",
    "df['TotalAmt']=df[amt_cols].sum(axis=1)"
   ]
  },
  {
   "cell_type": "code",
   "execution_count": 19,
   "id": "ec2589de-8616-4c08-85b3-cb220e5c354e",
   "metadata": {},
   "outputs": [
    {
     "data": {
      "text/html": [
       "<div>\n",
       "<style scoped>\n",
       "    .dataframe tbody tr th:only-of-type {\n",
       "        vertical-align: middle;\n",
       "    }\n",
       "\n",
       "    .dataframe tbody tr th {\n",
       "        vertical-align: top;\n",
       "    }\n",
       "\n",
       "    .dataframe thead th {\n",
       "        text-align: right;\n",
       "    }\n",
       "</style>\n",
       "<table border=\"1\" class=\"dataframe\">\n",
       "  <thead>\n",
       "    <tr style=\"text-align: right;\">\n",
       "      <th></th>\n",
       "      <th>Customer_ID</th>\n",
       "      <th>MonthlyIncome</th>\n",
       "      <th>FamilySize</th>\n",
       "      <th>InactiveDays</th>\n",
       "      <th>Amt Fresh Produce</th>\n",
       "      <th>Amt Meat and Seafood</th>\n",
       "      <th>Amt Household Supplies</th>\n",
       "      <th>Amt Health and Wellness</th>\n",
       "      <th>Amt Beverages &amp; Frozen Food</th>\n",
       "      <th>Amt Dairy and Eggs</th>\n",
       "      <th>DiscoutCouponsAvailed</th>\n",
       "      <th>Click_MarketingCmpgn1</th>\n",
       "      <th>Click_MarketingCmpgn2</th>\n",
       "      <th>Click_MarketingCmpgn3</th>\n",
       "      <th>Click_MarketingCmpgn4</th>\n",
       "      <th>Click_MarketingCmpgn5</th>\n",
       "      <th>Complaints</th>\n",
       "      <th>Age</th>\n",
       "      <th>SubscriptionTaken</th>\n",
       "      <th>TotalAmt</th>\n",
       "    </tr>\n",
       "  </thead>\n",
       "  <tbody>\n",
       "    <tr>\n",
       "      <th>0</th>\n",
       "      <td>2</td>\n",
       "      <td>46344</td>\n",
       "      <td>2</td>\n",
       "      <td>19</td>\n",
       "      <td>80</td>\n",
       "      <td>480</td>\n",
       "      <td>160</td>\n",
       "      <td>80</td>\n",
       "      <td>480</td>\n",
       "      <td>526</td>\n",
       "      <td>2</td>\n",
       "      <td>0</td>\n",
       "      <td>0</td>\n",
       "      <td>0</td>\n",
       "      <td>0</td>\n",
       "      <td>0</td>\n",
       "      <td>0</td>\n",
       "      <td>66</td>\n",
       "      <td>1</td>\n",
       "      <td>1806</td>\n",
       "    </tr>\n",
       "    <tr>\n",
       "      <th>1</th>\n",
       "      <td>3</td>\n",
       "      <td>71613</td>\n",
       "      <td>5</td>\n",
       "      <td>24</td>\n",
       "      <td>3920</td>\n",
       "      <td>10160</td>\n",
       "      <td>8880</td>\n",
       "      <td>1680</td>\n",
       "      <td>3360</td>\n",
       "      <td>1449</td>\n",
       "      <td>1</td>\n",
       "      <td>0</td>\n",
       "      <td>0</td>\n",
       "      <td>0</td>\n",
       "      <td>0</td>\n",
       "      <td>0</td>\n",
       "      <td>0</td>\n",
       "      <td>55</td>\n",
       "      <td>0</td>\n",
       "      <td>29449</td>\n",
       "    </tr>\n",
       "    <tr>\n",
       "      <th>2</th>\n",
       "      <td>4</td>\n",
       "      <td>26646</td>\n",
       "      <td>4</td>\n",
       "      <td>4</td>\n",
       "      <td>320</td>\n",
       "      <td>1600</td>\n",
       "      <td>800</td>\n",
       "      <td>240</td>\n",
       "      <td>400</td>\n",
       "      <td>0</td>\n",
       "      <td>2</td>\n",
       "      <td>0</td>\n",
       "      <td>0</td>\n",
       "      <td>0</td>\n",
       "      <td>0</td>\n",
       "      <td>0</td>\n",
       "      <td>0</td>\n",
       "      <td>36</td>\n",
       "      <td>0</td>\n",
       "      <td>3360</td>\n",
       "    </tr>\n",
       "    <tr>\n",
       "      <th>3</th>\n",
       "      <td>5</td>\n",
       "      <td>58293</td>\n",
       "      <td>3</td>\n",
       "      <td>1</td>\n",
       "      <td>3440</td>\n",
       "      <td>9440</td>\n",
       "      <td>3680</td>\n",
       "      <td>2160</td>\n",
       "      <td>1200</td>\n",
       "      <td>1401</td>\n",
       "      <td>5</td>\n",
       "      <td>0</td>\n",
       "      <td>0</td>\n",
       "      <td>0</td>\n",
       "      <td>0</td>\n",
       "      <td>0</td>\n",
       "      <td>0</td>\n",
       "      <td>39</td>\n",
       "      <td>1</td>\n",
       "      <td>21321</td>\n",
       "    </tr>\n",
       "    <tr>\n",
       "      <th>4</th>\n",
       "      <td>6</td>\n",
       "      <td>62513</td>\n",
       "      <td>3</td>\n",
       "      <td>1</td>\n",
       "      <td>3360</td>\n",
       "      <td>7840</td>\n",
       "      <td>0</td>\n",
       "      <td>3360</td>\n",
       "      <td>1120</td>\n",
       "      <td>0</td>\n",
       "      <td>2</td>\n",
       "      <td>0</td>\n",
       "      <td>0</td>\n",
       "      <td>0</td>\n",
       "      <td>0</td>\n",
       "      <td>0</td>\n",
       "      <td>0</td>\n",
       "      <td>53</td>\n",
       "      <td>0</td>\n",
       "      <td>15680</td>\n",
       "    </tr>\n",
       "    <tr>\n",
       "      <th>...</th>\n",
       "      <td>...</td>\n",
       "      <td>...</td>\n",
       "      <td>...</td>\n",
       "      <td>...</td>\n",
       "      <td>...</td>\n",
       "      <td>...</td>\n",
       "      <td>...</td>\n",
       "      <td>...</td>\n",
       "      <td>...</td>\n",
       "      <td>...</td>\n",
       "      <td>...</td>\n",
       "      <td>...</td>\n",
       "      <td>...</td>\n",
       "      <td>...</td>\n",
       "      <td>...</td>\n",
       "      <td>...</td>\n",
       "      <td>...</td>\n",
       "      <td>...</td>\n",
       "      <td>...</td>\n",
       "      <td>...</td>\n",
       "    </tr>\n",
       "    <tr>\n",
       "      <th>1994</th>\n",
       "      <td>1996</td>\n",
       "      <td>43815</td>\n",
       "      <td>5</td>\n",
       "      <td>1</td>\n",
       "      <td>800</td>\n",
       "      <td>2320</td>\n",
       "      <td>320</td>\n",
       "      <td>560</td>\n",
       "      <td>1200</td>\n",
       "      <td>696</td>\n",
       "      <td>1</td>\n",
       "      <td>0</td>\n",
       "      <td>0</td>\n",
       "      <td>0</td>\n",
       "      <td>0</td>\n",
       "      <td>0</td>\n",
       "      <td>0</td>\n",
       "      <td>38</td>\n",
       "      <td>0</td>\n",
       "      <td>5896</td>\n",
       "    </tr>\n",
       "    <tr>\n",
       "      <th>1995</th>\n",
       "      <td>1997</td>\n",
       "      <td>48195</td>\n",
       "      <td>2</td>\n",
       "      <td>1</td>\n",
       "      <td>2160</td>\n",
       "      <td>5440</td>\n",
       "      <td>4160</td>\n",
       "      <td>560</td>\n",
       "      <td>400</td>\n",
       "      <td>0</td>\n",
       "      <td>6</td>\n",
       "      <td>0</td>\n",
       "      <td>0</td>\n",
       "      <td>0</td>\n",
       "      <td>0</td>\n",
       "      <td>0</td>\n",
       "      <td>0</td>\n",
       "      <td>64</td>\n",
       "      <td>0</td>\n",
       "      <td>12720</td>\n",
       "    </tr>\n",
       "    <tr>\n",
       "      <th>1996</th>\n",
       "      <td>1998</td>\n",
       "      <td>77027</td>\n",
       "      <td>5</td>\n",
       "      <td>1</td>\n",
       "      <td>4560</td>\n",
       "      <td>19360</td>\n",
       "      <td>3600</td>\n",
       "      <td>0</td>\n",
       "      <td>880</td>\n",
       "      <td>0</td>\n",
       "      <td>2</td>\n",
       "      <td>0</td>\n",
       "      <td>0</td>\n",
       "      <td>0</td>\n",
       "      <td>0</td>\n",
       "      <td>0</td>\n",
       "      <td>0</td>\n",
       "      <td>68</td>\n",
       "      <td>1</td>\n",
       "      <td>28400</td>\n",
       "    </tr>\n",
       "    <tr>\n",
       "      <th>1997</th>\n",
       "      <td>1999</td>\n",
       "      <td>71322</td>\n",
       "      <td>4</td>\n",
       "      <td>21</td>\n",
       "      <td>3440</td>\n",
       "      <td>18080</td>\n",
       "      <td>5520</td>\n",
       "      <td>800</td>\n",
       "      <td>16320</td>\n",
       "      <td>0</td>\n",
       "      <td>2</td>\n",
       "      <td>0</td>\n",
       "      <td>0</td>\n",
       "      <td>0</td>\n",
       "      <td>0</td>\n",
       "      <td>0</td>\n",
       "      <td>0</td>\n",
       "      <td>55</td>\n",
       "      <td>0</td>\n",
       "      <td>44160</td>\n",
       "    </tr>\n",
       "    <tr>\n",
       "      <th>1998</th>\n",
       "      <td>2000</td>\n",
       "      <td>32765</td>\n",
       "      <td>4</td>\n",
       "      <td>12</td>\n",
       "      <td>240</td>\n",
       "      <td>1360</td>\n",
       "      <td>560</td>\n",
       "      <td>240</td>\n",
       "      <td>240</td>\n",
       "      <td>0</td>\n",
       "      <td>2</td>\n",
       "      <td>0</td>\n",
       "      <td>0</td>\n",
       "      <td>0</td>\n",
       "      <td>0</td>\n",
       "      <td>0</td>\n",
       "      <td>0</td>\n",
       "      <td>41</td>\n",
       "      <td>0</td>\n",
       "      <td>2640</td>\n",
       "    </tr>\n",
       "  </tbody>\n",
       "</table>\n",
       "<p>1999 rows × 20 columns</p>\n",
       "</div>"
      ],
      "text/plain": [
       "      Customer_ID  MonthlyIncome  FamilySize  InactiveDays  Amt Fresh Produce  \\\n",
       "0               2          46344           2            19                 80   \n",
       "1               3          71613           5            24               3920   \n",
       "2               4          26646           4             4                320   \n",
       "3               5          58293           3             1               3440   \n",
       "4               6          62513           3             1               3360   \n",
       "...           ...            ...         ...           ...                ...   \n",
       "1994         1996          43815           5             1                800   \n",
       "1995         1997          48195           2             1               2160   \n",
       "1996         1998          77027           5             1               4560   \n",
       "1997         1999          71322           4            21               3440   \n",
       "1998         2000          32765           4            12                240   \n",
       "\n",
       "      Amt Meat and Seafood  Amt Household Supplies  Amt Health and Wellness  \\\n",
       "0                      480                     160                       80   \n",
       "1                    10160                    8880                     1680   \n",
       "2                     1600                     800                      240   \n",
       "3                     9440                    3680                     2160   \n",
       "4                     7840                       0                     3360   \n",
       "...                    ...                     ...                      ...   \n",
       "1994                  2320                     320                      560   \n",
       "1995                  5440                    4160                      560   \n",
       "1996                 19360                    3600                        0   \n",
       "1997                 18080                    5520                      800   \n",
       "1998                  1360                     560                      240   \n",
       "\n",
       "      Amt Beverages & Frozen Food  Amt Dairy and Eggs  DiscoutCouponsAvailed  \\\n",
       "0                             480                 526                      2   \n",
       "1                            3360                1449                      1   \n",
       "2                             400                   0                      2   \n",
       "3                            1200                1401                      5   \n",
       "4                            1120                   0                      2   \n",
       "...                           ...                 ...                    ...   \n",
       "1994                         1200                 696                      1   \n",
       "1995                          400                   0                      6   \n",
       "1996                          880                   0                      2   \n",
       "1997                        16320                   0                      2   \n",
       "1998                          240                   0                      2   \n",
       "\n",
       "      Click_MarketingCmpgn1  Click_MarketingCmpgn2  Click_MarketingCmpgn3  \\\n",
       "0                         0                      0                      0   \n",
       "1                         0                      0                      0   \n",
       "2                         0                      0                      0   \n",
       "3                         0                      0                      0   \n",
       "4                         0                      0                      0   \n",
       "...                     ...                    ...                    ...   \n",
       "1994                      0                      0                      0   \n",
       "1995                      0                      0                      0   \n",
       "1996                      0                      0                      0   \n",
       "1997                      0                      0                      0   \n",
       "1998                      0                      0                      0   \n",
       "\n",
       "      Click_MarketingCmpgn4  Click_MarketingCmpgn5  Complaints  Age  \\\n",
       "0                         0                      0           0   66   \n",
       "1                         0                      0           0   55   \n",
       "2                         0                      0           0   36   \n",
       "3                         0                      0           0   39   \n",
       "4                         0                      0           0   53   \n",
       "...                     ...                    ...         ...  ...   \n",
       "1994                      0                      0           0   38   \n",
       "1995                      0                      0           0   64   \n",
       "1996                      0                      0           0   68   \n",
       "1997                      0                      0           0   55   \n",
       "1998                      0                      0           0   41   \n",
       "\n",
       "      SubscriptionTaken  TotalAmt  \n",
       "0                     1      1806  \n",
       "1                     0     29449  \n",
       "2                     0      3360  \n",
       "3                     1     21321  \n",
       "4                     0     15680  \n",
       "...                 ...       ...  \n",
       "1994                  0      5896  \n",
       "1995                  0     12720  \n",
       "1996                  1     28400  \n",
       "1997                  0     44160  \n",
       "1998                  0      2640  \n",
       "\n",
       "[1999 rows x 20 columns]"
      ]
     },
     "execution_count": 19,
     "metadata": {},
     "output_type": "execute_result"
    }
   ],
   "source": [
    "df"
   ]
  },
  {
   "cell_type": "code",
   "execution_count": 20,
   "id": "dc83ba48-9077-4a57-ac1d-936539b37084",
   "metadata": {},
   "outputs": [
    {
     "name": "stdout",
     "output_type": "stream",
     "text": [
      "Columns with Amount expenses are: ['Click_MarketingCmpgn1', 'Click_MarketingCmpgn2', 'Click_MarketingCmpgn3', 'Click_MarketingCmpgn4', 'Click_MarketingCmpgn5']\n"
     ]
    }
   ],
   "source": [
    "# list of columns with 'Click'\n",
    "col_mark = [k for k in df.columns if 'Click' in k]\n",
    "print('Columns with Amount expenses are:', col_mark)\n",
    "\n",
    "# initializing a seperate column of Total Clicks of the Marketing Campaigns which is a summation of all the Click Columns to calculate the responsive rate\n",
    "df['TotalClick']=0\n",
    "\n",
    "# summation of the columns with 'Click'\n",
    "df['TotalClick']=df[col_mark].sum(axis=1)"
   ]
  },
  {
   "cell_type": "markdown",
   "id": "85232100-ef72-443d-9bc8-6f6c0b8f8f29",
   "metadata": {},
   "source": [
    "#### 1.2.2 Model Building"
   ]
  },
  {
   "cell_type": "code",
   "execution_count": 24,
   "id": "63a81f27",
   "metadata": {},
   "outputs": [],
   "source": [
    "X = df.iloc[:,[1,2,3,17]].values"
   ]
  },
  {
   "cell_type": "code",
   "execution_count": 25,
   "id": "6da2f2cf",
   "metadata": {},
   "outputs": [
    {
     "data": {
      "text/plain": [
       "array([[46344,     2,    19,    66],\n",
       "       [71613,     5,    24,    55],\n",
       "       [26646,     4,     4,    36],\n",
       "       ...,\n",
       "       [77027,     5,     1,    68],\n",
       "       [71322,     4,    21,    55],\n",
       "       [32765,     4,    12,    41]], dtype=int64)"
      ]
     },
     "execution_count": 25,
     "metadata": {},
     "output_type": "execute_result"
    }
   ],
   "source": [
    "X"
   ]
  },
  {
   "cell_type": "code",
   "execution_count": 26,
   "id": "608e0e7d-67d5-437f-8fd9-331367759c65",
   "metadata": {},
   "outputs": [],
   "source": [
    "from sklearn.cluster import KMeans\n",
    "from sklearn.metrics import silhouette_samples, silhouette_score\n",
    "from sklearn.preprocessing import StandardScaler"
   ]
  },
  {
   "cell_type": "code",
   "execution_count": 27,
   "id": "39963788-554b-495c-81fc-c4d8ae55e90f",
   "metadata": {},
   "outputs": [],
   "source": [
    "wcss = []\n",
    "for i in range(1,11):\n",
    "    kmeans=KMeans(n_clusters=i, init='k-means++', random_state=0)\n",
    "    kmeans.fit(X)\n",
    "    wcss.append(kmeans.inertia_)"
   ]
  },
  {
   "cell_type": "code",
   "execution_count": 28,
   "id": "c1290813-014b-4f86-97a3-37cb06dca914",
   "metadata": {},
   "outputs": [
    {
     "data": {
      "text/plain": [
       "Text(0.5, 0, 'No. of Clusters')"
      ]
     },
     "execution_count": 28,
     "metadata": {},
     "output_type": "execute_result"
    },
    {
     "data": {
      "image/png": "[encoded data removed]",
      "text/plain": [
       "<Figure size 432x288 with 1 Axes>"
      ]
     },
     "metadata": {},
     "output_type": "display_data"
    }
   ],
   "source": [
    "plt.plot(range(1,11), wcss)\n",
    "plt.title(\"Elbow_Method\")\n",
    "plt.ylabel(\"WCSS Values\")\n",
    "plt.xlabel(\"No. of Clusters\")"
   ]
  },
  {
   "cell_type": "markdown",
   "id": "5f1c94da-e957-459a-9b8a-3daaabc81bbc",
   "metadata": {},
   "source": [
    "    We can see that the plot reduces drastically from Cluster 1 to Cluster 2, slows down till 3 and flattens from 4 to 10. \n",
    "    We can see that we are getting an elbow at k=3, so we can assign 3 as optimul no. of cluster. "
   ]
  },
  {
   "cell_type": "code",
   "execution_count": 29,
   "id": "ab4c781f-1f68-409b-a506-ed82c599096c",
   "metadata": {},
   "outputs": [
    {
     "data": {
      "text/plain": [
       "KMeans(n_clusters=3, random_state=0)"
      ]
     },
     "execution_count": 29,
     "metadata": {},
     "output_type": "execute_result"
    }
   ],
   "source": [
    "kmeans_model=KMeans(n_clusters=3, init='k-means++', random_state=0)\n",
    "kmeans_model.fit(X)"
   ]
  },
  {
   "cell_type": "code",
   "execution_count": 30,
   "id": "a2eb285e-2c46-4ea1-9d05-92af5f30259b",
   "metadata": {},
   "outputs": [],
   "source": [
    "y_kmeans = kmeans_model.fit_predict(X)"
   ]
  },
  {
   "cell_type": "code",
   "execution_count": 31,
   "id": "2ece2528-e34b-4b4e-8482-46f5fbe3cf03",
   "metadata": {},
   "outputs": [],
   "source": [
    "df['Cluster'] = y_kmeans"
   ]
  },
  {
   "cell_type": "code",
   "execution_count": 32,
   "id": "ac5170a6-673c-435c-9a15-95d156210110",
   "metadata": {},
   "outputs": [
    {
     "data": {
      "text/plain": [
       "2   0.45\n",
       "1   0.39\n",
       "0   0.16\n",
       "Name: Cluster, dtype: float64"
      ]
     },
     "execution_count": 32,
     "metadata": {},
     "output_type": "execute_result"
    }
   ],
   "source": [
    "df.Cluster.value_counts(normalize=True)"
   ]
  },
  {
   "cell_type": "code",
   "execution_count": 33,
   "id": "f3ac0de5-33e1-4932-9916-ce89ca3c4bce",
   "metadata": {},
   "outputs": [
    {
     "data": {
      "text/html": [
       "<div>\n",
       "<style scoped>\n",
       "    .dataframe tbody tr th:only-of-type {\n",
       "        vertical-align: middle;\n",
       "    }\n",
       "\n",
       "    .dataframe tbody tr th {\n",
       "        vertical-align: top;\n",
       "    }\n",
       "\n",
       "    .dataframe thead tr th {\n",
       "        text-align: left;\n",
       "    }\n",
       "\n",
       "    .dataframe thead tr:last-of-type th {\n",
       "        text-align: right;\n",
       "    }\n",
       "</style>\n",
       "<table border=\"1\" class=\"dataframe\">\n",
       "  <thead>\n",
       "    <tr>\n",
       "      <th></th>\n",
       "      <th colspan=\"2\" halign=\"left\">MonthlyIncome</th>\n",
       "      <th colspan=\"2\" halign=\"left\">Age</th>\n",
       "      <th colspan=\"2\" halign=\"left\">InactiveDays</th>\n",
       "      <th colspan=\"2\" halign=\"left\">FamilySize</th>\n",
       "    </tr>\n",
       "    <tr>\n",
       "      <th></th>\n",
       "      <th>mean</th>\n",
       "      <th>median</th>\n",
       "      <th>mean</th>\n",
       "      <th>median</th>\n",
       "      <th>mean</th>\n",
       "      <th>median</th>\n",
       "      <th>mean</th>\n",
       "      <th>median</th>\n",
       "    </tr>\n",
       "    <tr>\n",
       "      <th>Cluster</th>\n",
       "      <th></th>\n",
       "      <th></th>\n",
       "      <th></th>\n",
       "      <th></th>\n",
       "      <th></th>\n",
       "      <th></th>\n",
       "      <th></th>\n",
       "      <th></th>\n",
       "    </tr>\n",
       "  </thead>\n",
       "  <tbody>\n",
       "    <tr>\n",
       "      <th>0</th>\n",
       "      <td>153041.99</td>\n",
       "      <td>152766.00</td>\n",
       "      <td>51.45</td>\n",
       "      <td>51.00</td>\n",
       "      <td>11.44</td>\n",
       "      <td>1.00</td>\n",
       "      <td>2.96</td>\n",
       "      <td>3.00</td>\n",
       "    </tr>\n",
       "    <tr>\n",
       "      <th>1</th>\n",
       "      <td>62978.35</td>\n",
       "      <td>61825.00</td>\n",
       "      <td>54.47</td>\n",
       "      <td>55.00</td>\n",
       "      <td>12.77</td>\n",
       "      <td>2.00</td>\n",
       "      <td>3.02</td>\n",
       "      <td>3.00</td>\n",
       "    </tr>\n",
       "    <tr>\n",
       "      <th>2</th>\n",
       "      <td>32375.50</td>\n",
       "      <td>33697.00</td>\n",
       "      <td>47.94</td>\n",
       "      <td>47.00</td>\n",
       "      <td>11.02</td>\n",
       "      <td>1.00</td>\n",
       "      <td>3.06</td>\n",
       "      <td>3.00</td>\n",
       "    </tr>\n",
       "  </tbody>\n",
       "</table>\n",
       "</div>"
      ],
      "text/plain": [
       "        MonthlyIncome             Age        InactiveDays        FamilySize  \\\n",
       "                 mean    median  mean median         mean median       mean   \n",
       "Cluster                                                                       \n",
       "0           153041.99 152766.00 51.45  51.00        11.44   1.00       2.96   \n",
       "1            62978.35  61825.00 54.47  55.00        12.77   2.00       3.02   \n",
       "2            32375.50  33697.00 47.94  47.00        11.02   1.00       3.06   \n",
       "\n",
       "                \n",
       "        median  \n",
       "Cluster         \n",
       "0         3.00  \n",
       "1         3.00  \n",
       "2         3.00  "
      ]
     },
     "execution_count": 33,
     "metadata": {},
     "output_type": "execute_result"
    }
   ],
   "source": [
    "df.groupby('Cluster')['MonthlyIncome', 'Age', 'InactiveDays', 'FamilySize'].agg(['mean', 'median'])"
   ]
  },
  {
   "cell_type": "code",
   "execution_count": 34,
   "id": "11a6421a-455e-4e66-98f7-2457d451fa3d",
   "metadata": {},
   "outputs": [
    {
     "data": {
      "text/plain": [
       "Index(['Customer_ID', 'MonthlyIncome', 'FamilySize', 'InactiveDays',\n",
       "       'Amt Fresh Produce', 'Amt Meat and Seafood', 'Amt Household Supplies',\n",
       "       'Amt Health and Wellness', 'Amt Beverages & Frozen Food',\n",
       "       'Amt Dairy and Eggs', 'DiscoutCouponsAvailed', 'Click_MarketingCmpgn1',\n",
       "       'Click_MarketingCmpgn2', 'Click_MarketingCmpgn3',\n",
       "       'Click_MarketingCmpgn4', 'Click_MarketingCmpgn5', 'Complaints', 'Age',\n",
       "       'SubscriptionTaken', 'TotalAmt', 'TotalClick', 'Cluster'],\n",
       "      dtype='object')"
      ]
     },
     "execution_count": 34,
     "metadata": {},
     "output_type": "execute_result"
    }
   ],
   "source": [
    "df.columns"
   ]
  },
  {
   "cell_type": "code",
   "execution_count": 35,
   "id": "e0a44d7d-4892-423f-b374-da8746cbcba2",
   "metadata": {},
   "outputs": [
    {
     "data": {
      "text/html": [
       "<div>\n",
       "<style scoped>\n",
       "    .dataframe tbody tr th:only-of-type {\n",
       "        vertical-align: middle;\n",
       "    }\n",
       "\n",
       "    .dataframe tbody tr th {\n",
       "        vertical-align: top;\n",
       "    }\n",
       "\n",
       "    .dataframe thead th {\n",
       "        text-align: right;\n",
       "    }\n",
       "</style>\n",
       "<table border=\"1\" class=\"dataframe\">\n",
       "  <thead>\n",
       "    <tr style=\"text-align: right;\">\n",
       "      <th></th>\n",
       "      <th>TotalAmt</th>\n",
       "      <th>TotalClick</th>\n",
       "      <th>DiscoutCouponsAvailed</th>\n",
       "      <th>SubscriptionTaken</th>\n",
       "    </tr>\n",
       "    <tr>\n",
       "      <th>Cluster</th>\n",
       "      <th></th>\n",
       "      <th></th>\n",
       "      <th></th>\n",
       "      <th></th>\n",
       "    </tr>\n",
       "  </thead>\n",
       "  <tbody>\n",
       "    <tr>\n",
       "      <th>0</th>\n",
       "      <td>73087.92</td>\n",
       "      <td>0.74</td>\n",
       "      <td>1.16</td>\n",
       "      <td>0.46</td>\n",
       "    </tr>\n",
       "    <tr>\n",
       "      <th>1</th>\n",
       "      <td>25530.47</td>\n",
       "      <td>0.34</td>\n",
       "      <td>2.78</td>\n",
       "      <td>0.43</td>\n",
       "    </tr>\n",
       "    <tr>\n",
       "      <th>2</th>\n",
       "      <td>6200.57</td>\n",
       "      <td>0.10</td>\n",
       "      <td>2.33</td>\n",
       "      <td>0.41</td>\n",
       "    </tr>\n",
       "  </tbody>\n",
       "</table>\n",
       "</div>"
      ],
      "text/plain": [
       "         TotalAmt  TotalClick  DiscoutCouponsAvailed  SubscriptionTaken\n",
       "Cluster                                                                \n",
       "0        73087.92        0.74                   1.16               0.46\n",
       "1        25530.47        0.34                   2.78               0.43\n",
       "2         6200.57        0.10                   2.33               0.41"
      ]
     },
     "execution_count": 35,
     "metadata": {},
     "output_type": "execute_result"
    }
   ],
   "source": [
    "df.groupby('Cluster')['TotalAmt', 'TotalClick', 'DiscoutCouponsAvailed','SubscriptionTaken'].mean()"
   ]
  },
  {
   "cell_type": "markdown",
   "id": "993afeb3-8a59-42ae-a2ae-2019a6e1bfbe",
   "metadata": {},
   "source": [
    "##### **Observation**\n",
    "\n",
    "1. We have created 3 Segments of Customers based on the parameters of 'MonthlyIncome', 'Age', 'InactiveDays', 'FamilySize'\n",
    "2. Customers belonging to Cluster 0 are our Prime Customers. \n",
    "    * They belong to High class family with High Avg. MonthlyIncome of 150K\n",
    "    * They also belong to the Age group of 50-51 and are Acitve\n",
    "    * Since these customers have highest avg salary they also have high purchasing power \n",
    "    * Their click_rate is highest of 0.73 which has large margin with other customers from other cluster. \n",
    "    * They have the highest subscription_rate of 0.45\n",
    "    * They are also the ones who have availed least discount coupons\n",
    "3. We have to put focus on the customers of Cluster 1 to increase the growth of the company.\n",
    "    * They have good Monthly income but the click_rates are far below when compared to the prime customers. \n",
    "    * Increase in click_rate can also increase in subscription\n",
    "4. Customer from Cluster 2 belong to the category who does not have potential purchasing power and also the click_rates are way beyond other 2 clusters. "
   ]
  },
  {
   "cell_type": "markdown",
   "id": "dc00adc9-da4f-4ef8-bb77-b9e759ccca99",
   "metadata": {},
   "source": [
    "## 2. Product Category Performance"
   ]
  },
  {
   "cell_type": "markdown",
   "id": "46e40a76-fd52-40e2-a7b7-88abfa36a90a",
   "metadata": {},
   "source": [
    "### 2.1 EDA on Product Category Performance"
   ]
  },
  {
   "cell_type": "code",
   "execution_count": 36,
   "id": "52c98201-7b7e-47de-a5b5-08a84315e34e",
   "metadata": {},
   "outputs": [
    {
     "data": {
      "text/plain": [
       "'for cols in amt_cols:\\n    plt.figure(figsize=(18,6))\\n    plt.subplot(121)\\n    plt.title ([cols], fontsize=14)\\n    sns.histplot(df[cols], kde=True);\\n    plt.subplot(122)\\n    plt.title(\"Boxplot\",fontsize=14)\\n    sns.boxplot(df[cols]);\\n'"
      ]
     },
     "execution_count": 36,
     "metadata": {},
     "output_type": "execute_result"
    }
   ],
   "source": [
    "'''for cols in amt_cols:\n",
    "    plt.figure(figsize=(18,6))\n",
    "    plt.subplot(121)\n",
    "    plt.title ([cols], fontsize=14)\n",
    "    sns.histplot(df[cols], kde=True);\n",
    "    plt.subplot(122)\n",
    "    plt.title(\"Boxplot\",fontsize=14)\n",
    "    sns.boxplot(df[cols]);\n",
    "'''"
   ]
  },
  {
   "cell_type": "code",
   "execution_count": 37,
   "id": "8d2a8801-4cfc-4c51-a845-020403c0535d",
   "metadata": {},
   "outputs": [],
   "source": [
    "# list to store the total amount of the sales\n",
    "amt_total = []\n",
    "for c in amt_cols:\n",
    "    amt_total.append(df[c].values.sum())"
   ]
  },
  {
   "cell_type": "code",
   "execution_count": 38,
   "id": "7dfe3815-7dc8-4c2e-a6b3-f0dff45b7894",
   "metadata": {},
   "outputs": [],
   "source": [
    "# dataframe to store Total Sales of all the products\n",
    "product_category = pd.DataFrame({'Amount':amt_total}, index=amt_cols)\n",
    "product_category = product_category.sort_values(by='Amount', ascending=False)"
   ]
  },
  {
   "cell_type": "code",
   "execution_count": 39,
   "id": "9ad8d168-d15d-44cb-bb6c-a9c2c5d1a48c",
   "metadata": {},
   "outputs": [
    {
     "data": {
      "text/html": [
       "<div>\n",
       "<style scoped>\n",
       "    .dataframe tbody tr th:only-of-type {\n",
       "        vertical-align: middle;\n",
       "    }\n",
       "\n",
       "    .dataframe tbody tr th {\n",
       "        vertical-align: top;\n",
       "    }\n",
       "\n",
       "    .dataframe thead th {\n",
       "        text-align: right;\n",
       "    }\n",
       "</style>\n",
       "<table border=\"1\" class=\"dataframe\">\n",
       "  <thead>\n",
       "    <tr style=\"text-align: right;\">\n",
       "      <th></th>\n",
       "      <th>Amount</th>\n",
       "    </tr>\n",
       "  </thead>\n",
       "  <tbody>\n",
       "    <tr>\n",
       "      <th>Amt Meat and Seafood</th>\n",
       "      <td>26525600</td>\n",
       "    </tr>\n",
       "    <tr>\n",
       "      <th>Amt Beverages &amp; Frozen Food</th>\n",
       "      <td>6975520</td>\n",
       "    </tr>\n",
       "    <tr>\n",
       "      <th>Amt Household Supplies</th>\n",
       "      <td>6040160</td>\n",
       "    </tr>\n",
       "    <tr>\n",
       "      <th>Amt Health and Wellness</th>\n",
       "      <td>4394240</td>\n",
       "    </tr>\n",
       "    <tr>\n",
       "      <th>Amt Fresh Produce</th>\n",
       "      <td>4217040</td>\n",
       "    </tr>\n",
       "    <tr>\n",
       "      <th>Amt Dairy and Eggs</th>\n",
       "      <td>1172532</td>\n",
       "    </tr>\n",
       "  </tbody>\n",
       "</table>\n",
       "</div>"
      ],
      "text/plain": [
       "                               Amount\n",
       "Amt Meat and Seafood         26525600\n",
       "Amt Beverages & Frozen Food   6975520\n",
       "Amt Household Supplies        6040160\n",
       "Amt Health and Wellness       4394240\n",
       "Amt Fresh Produce             4217040\n",
       "Amt Dairy and Eggs            1172532"
      ]
     },
     "execution_count": 39,
     "metadata": {},
     "output_type": "execute_result"
    }
   ],
   "source": [
    "product_category"
   ]
  },
  {
   "cell_type": "code",
   "execution_count": 40,
   "id": "549745a5",
   "metadata": {},
   "outputs": [],
   "source": [
    "product_sales = product_category['Amount']\n",
    "labels = ['Meat & SeaFood', 'Beverages & Frozen Food', 'HouseholdSupplies', \n",
    "          'Health & Wellness', 'Fresh Produce', 'Dairy & Eggs']\n",
    "exp = (0.05,0,0,0,0,0)"
   ]
  },
  {
   "cell_type": "code",
   "execution_count": 41,
   "id": "55098d0c",
   "metadata": {},
   "outputs": [
    {
     "data": {
      "image/png": "[encoded data removed]",
      "text/plain": [
       "<Figure size 432x288 with 1 Axes>"
      ]
     },
     "metadata": {},
     "output_type": "display_data"
    }
   ],
   "source": [
    "plt.title(\"Product wise Sales%\")\n",
    "plt.pie(x=product_sales, labels=labels,explode=exp,autopct='%.2f%%',shadow=True, startangle=90);\n",
    "plt.show()"
   ]
  },
  {
   "cell_type": "code",
   "execution_count": 42,
   "id": "470bdba5-c65a-413a-9710-186fb873f3df",
   "metadata": {},
   "outputs": [
    {
     "data": {
      "image/png": "[encoded data removed]",
      "text/plain": [
       "<Figure size 432x288 with 1 Axes>"
      ]
     },
     "metadata": {},
     "output_type": "display_data"
    }
   ],
   "source": [
    "plt.title(\"Total Amount Spend on Each Product\")\n",
    "ax = sns.barplot(data=product_category, y='Amount', x=product_category.index);\n",
    "ax.set_xticklabels(ax.get_xticklabels(), rotation=90);"
   ]
  },
  {
   "cell_type": "markdown",
   "id": "4cb6ba3c",
   "metadata": {},
   "source": [
    "##### **Sales Volume of specific Product Category, clusterwise**"
   ]
  },
  {
   "cell_type": "code",
   "execution_count": 43,
   "id": "9ea1df30",
   "metadata": {},
   "outputs": [],
   "source": [
    "prodt_cat_clus = df.groupby('Cluster')[amt_cols].sum()"
   ]
  },
  {
   "cell_type": "code",
   "execution_count": 44,
   "id": "1827c88d",
   "metadata": {},
   "outputs": [
    {
     "data": {
      "text/html": [
       "<div>\n",
       "<style scoped>\n",
       "    .dataframe tbody tr th:only-of-type {\n",
       "        vertical-align: middle;\n",
       "    }\n",
       "\n",
       "    .dataframe tbody tr th {\n",
       "        vertical-align: top;\n",
       "    }\n",
       "\n",
       "    .dataframe thead th {\n",
       "        text-align: right;\n",
       "    }\n",
       "</style>\n",
       "<table border=\"1\" class=\"dataframe\">\n",
       "  <thead>\n",
       "    <tr style=\"text-align: right;\">\n",
       "      <th></th>\n",
       "      <th>Amt Fresh Produce</th>\n",
       "      <th>Amt Meat and Seafood</th>\n",
       "      <th>Amt Household Supplies</th>\n",
       "      <th>Amt Health and Wellness</th>\n",
       "      <th>Amt Beverages &amp; Frozen Food</th>\n",
       "      <th>Amt Dairy and Eggs</th>\n",
       "    </tr>\n",
       "    <tr>\n",
       "      <th>Cluster</th>\n",
       "      <th></th>\n",
       "      <th></th>\n",
       "      <th></th>\n",
       "      <th></th>\n",
       "      <th></th>\n",
       "      <th></th>\n",
       "    </tr>\n",
       "  </thead>\n",
       "  <tbody>\n",
       "    <tr>\n",
       "      <th>0</th>\n",
       "      <td>1760720</td>\n",
       "      <td>15342240</td>\n",
       "      <td>2557200</td>\n",
       "      <td>1840640</td>\n",
       "      <td>1948080</td>\n",
       "      <td>450870</td>\n",
       "    </tr>\n",
       "    <tr>\n",
       "      <th>1</th>\n",
       "      <td>1986640</td>\n",
       "      <td>9058000</td>\n",
       "      <td>2766160</td>\n",
       "      <td>2074640</td>\n",
       "      <td>3557520</td>\n",
       "      <td>445275</td>\n",
       "    </tr>\n",
       "    <tr>\n",
       "      <th>2</th>\n",
       "      <td>469680</td>\n",
       "      <td>2125360</td>\n",
       "      <td>716800</td>\n",
       "      <td>478960</td>\n",
       "      <td>1469920</td>\n",
       "      <td>276387</td>\n",
       "    </tr>\n",
       "  </tbody>\n",
       "</table>\n",
       "</div>"
      ],
      "text/plain": [
       "         Amt Fresh Produce  Amt Meat and Seafood  Amt Household Supplies  \\\n",
       "Cluster                                                                    \n",
       "0                  1760720              15342240                 2557200   \n",
       "1                  1986640               9058000                 2766160   \n",
       "2                   469680               2125360                  716800   \n",
       "\n",
       "         Amt Health and Wellness  Amt Beverages & Frozen Food  \\\n",
       "Cluster                                                         \n",
       "0                        1840640                      1948080   \n",
       "1                        2074640                      3557520   \n",
       "2                         478960                      1469920   \n",
       "\n",
       "         Amt Dairy and Eggs  \n",
       "Cluster                      \n",
       "0                    450870  \n",
       "1                    445275  \n",
       "2                    276387  "
      ]
     },
     "execution_count": 44,
     "metadata": {},
     "output_type": "execute_result"
    }
   ],
   "source": [
    "prodt_cat_clus"
   ]
  },
  {
   "cell_type": "code",
   "execution_count": 45,
   "id": "f110becf",
   "metadata": {},
   "outputs": [
    {
     "data": {
      "image/png": "[encoded data removed]",
      "text/plain": [
       "<Figure size 1152x360 with 3 Axes>"
      ]
     },
     "metadata": {},
     "output_type": "display_data"
    }
   ],
   "source": [
    "plt.figure(figsize=(16,5))\n",
    "plt.suptitle(\"Product Categories Sales by Customer Segments\", fontsize=15)\n",
    "ax1 = plt.subplot(1,3,1)\n",
    "plt.title('Cluster 0');\n",
    "prodt_cat_clus.iloc[0,:].sort_values(ascending=False).plot(kind='bar');\n",
    "\n",
    "ax2 = plt.subplot(1,3,2, sharey=ax1)\n",
    "plt.title('Cluster 1');\n",
    "prodt_cat_clus.iloc[1,:].sort_values(ascending=False).plot(kind='bar');\n",
    "\n",
    "ax2 = plt.subplot(1,3,3, sharey=ax2)\n",
    "plt.title('Cluster 2');\n",
    "prodt_cat_clus.iloc[2,:].sort_values(ascending=False).plot(kind='bar');"
   ]
  },
  {
   "cell_type": "markdown",
   "id": "8bd14219",
   "metadata": {},
   "source": [
    "##### **Avg Sales of specific Product Category, clusterwise**"
   ]
  },
  {
   "cell_type": "code",
   "execution_count": 46,
   "id": "fcaebf60",
   "metadata": {},
   "outputs": [],
   "source": [
    "prodt_cat_clus_avg = df.groupby('Cluster')[amt_cols].mean()"
   ]
  },
  {
   "cell_type": "code",
   "execution_count": 47,
   "id": "410c1dd1",
   "metadata": {},
   "outputs": [
    {
     "data": {
      "text/html": [
       "<div>\n",
       "<style scoped>\n",
       "    .dataframe tbody tr th:only-of-type {\n",
       "        vertical-align: middle;\n",
       "    }\n",
       "\n",
       "    .dataframe tbody tr th {\n",
       "        vertical-align: top;\n",
       "    }\n",
       "\n",
       "    .dataframe thead th {\n",
       "        text-align: right;\n",
       "    }\n",
       "</style>\n",
       "<table border=\"1\" class=\"dataframe\">\n",
       "  <thead>\n",
       "    <tr style=\"text-align: right;\">\n",
       "      <th></th>\n",
       "      <th>Amt Fresh Produce</th>\n",
       "      <th>Amt Meat and Seafood</th>\n",
       "      <th>Amt Household Supplies</th>\n",
       "      <th>Amt Health and Wellness</th>\n",
       "      <th>Amt Beverages &amp; Frozen Food</th>\n",
       "      <th>Amt Dairy and Eggs</th>\n",
       "    </tr>\n",
       "    <tr>\n",
       "      <th>Cluster</th>\n",
       "      <th></th>\n",
       "      <th></th>\n",
       "      <th></th>\n",
       "      <th></th>\n",
       "      <th></th>\n",
       "      <th></th>\n",
       "    </tr>\n",
       "  </thead>\n",
       "  <tbody>\n",
       "    <tr>\n",
       "      <th>0</th>\n",
       "      <td>5384.46</td>\n",
       "      <td>46918.17</td>\n",
       "      <td>7820.18</td>\n",
       "      <td>5628.87</td>\n",
       "      <td>5957.43</td>\n",
       "      <td>1378.81</td>\n",
       "    </tr>\n",
       "    <tr>\n",
       "      <th>1</th>\n",
       "      <td>2550.24</td>\n",
       "      <td>11627.73</td>\n",
       "      <td>3550.91</td>\n",
       "      <td>2663.21</td>\n",
       "      <td>4566.78</td>\n",
       "      <td>571.60</td>\n",
       "    </tr>\n",
       "    <tr>\n",
       "      <th>2</th>\n",
       "      <td>525.96</td>\n",
       "      <td>2380.02</td>\n",
       "      <td>802.69</td>\n",
       "      <td>536.35</td>\n",
       "      <td>1646.05</td>\n",
       "      <td>309.50</td>\n",
       "    </tr>\n",
       "  </tbody>\n",
       "</table>\n",
       "</div>"
      ],
      "text/plain": [
       "         Amt Fresh Produce  Amt Meat and Seafood  Amt Household Supplies  \\\n",
       "Cluster                                                                    \n",
       "0                  5384.46              46918.17                 7820.18   \n",
       "1                  2550.24              11627.73                 3550.91   \n",
       "2                   525.96               2380.02                  802.69   \n",
       "\n",
       "         Amt Health and Wellness  Amt Beverages & Frozen Food  \\\n",
       "Cluster                                                         \n",
       "0                        5628.87                      5957.43   \n",
       "1                        2663.21                      4566.78   \n",
       "2                         536.35                      1646.05   \n",
       "\n",
       "         Amt Dairy and Eggs  \n",
       "Cluster                      \n",
       "0                   1378.81  \n",
       "1                    571.60  \n",
       "2                    309.50  "
      ]
     },
     "execution_count": 47,
     "metadata": {},
     "output_type": "execute_result"
    }
   ],
   "source": [
    "prodt_cat_clus_avg"
   ]
  },
  {
   "cell_type": "code",
   "execution_count": 48,
   "id": "4174e457",
   "metadata": {},
   "outputs": [
    {
     "data": {
      "image/png": "[encoded data removed]",
      "text/plain": [
       "<Figure size 1152x360 with 3 Axes>"
      ]
     },
     "metadata": {},
     "output_type": "display_data"
    }
   ],
   "source": [
    "plt.figure(figsize=(16,5))\n",
    "plt.suptitle(\"Product Categories Avg. Sales by Customer Segments\", fontsize=15)\n",
    "ax1 = plt.subplot(1,3,1)\n",
    "plt.title('Cluster 0');\n",
    "prodt_cat_clus_avg.iloc[0,:].sort_values(ascending=False).plot(kind='bar');\n",
    "\n",
    "ax2 = plt.subplot(1,3,2, sharey=ax1)\n",
    "plt.title('Cluster 1');\n",
    "prodt_cat_clus_avg.iloc[1,:].sort_values(ascending=False).plot(kind='bar');\n",
    "\n",
    "ax2 = plt.subplot(1,3,3, sharey=ax2)\n",
    "plt.title('Cluster 2');\n",
    "prodt_cat_clus_avg.iloc[2,:].sort_values(ascending=False).plot(kind='bar');"
   ]
  },
  {
   "cell_type": "code",
   "execution_count": 49,
   "id": "4f6d0f5b",
   "metadata": {},
   "outputs": [],
   "source": [
    "# Top 5 customers by Total Sales Volume"
   ]
  },
  {
   "cell_type": "code",
   "execution_count": 50,
   "id": "0763f891",
   "metadata": {},
   "outputs": [],
   "source": [
    "amt_cols = [k for k in df.columns if 'Amt' in k]\n",
    "amt_cols.append('Cluster')"
   ]
  },
  {
   "cell_type": "code",
   "execution_count": 51,
   "id": "bf6a9a31",
   "metadata": {},
   "outputs": [
    {
     "data": {
      "text/html": [
       "<div>\n",
       "<style scoped>\n",
       "    .dataframe tbody tr th:only-of-type {\n",
       "        vertical-align: middle;\n",
       "    }\n",
       "\n",
       "    .dataframe tbody tr th {\n",
       "        vertical-align: top;\n",
       "    }\n",
       "\n",
       "    .dataframe thead th {\n",
       "        text-align: right;\n",
       "    }\n",
       "</style>\n",
       "<table border=\"1\" class=\"dataframe\">\n",
       "  <thead>\n",
       "    <tr style=\"text-align: right;\">\n",
       "      <th></th>\n",
       "      <th>Amt Fresh Produce</th>\n",
       "      <th>Amt Meat and Seafood</th>\n",
       "      <th>Amt Household Supplies</th>\n",
       "      <th>Amt Health and Wellness</th>\n",
       "      <th>Amt Beverages &amp; Frozen Food</th>\n",
       "      <th>Amt Dairy and Eggs</th>\n",
       "      <th>TotalAmt</th>\n",
       "      <th>Cluster</th>\n",
       "    </tr>\n",
       "    <tr>\n",
       "      <th>Customer_ID</th>\n",
       "      <th></th>\n",
       "      <th></th>\n",
       "      <th></th>\n",
       "      <th></th>\n",
       "      <th></th>\n",
       "      <th></th>\n",
       "      <th></th>\n",
       "      <th></th>\n",
       "    </tr>\n",
       "  </thead>\n",
       "  <tbody>\n",
       "    <tr>\n",
       "      <th>21</th>\n",
       "      <td>80</td>\n",
       "      <td>138000</td>\n",
       "      <td>80</td>\n",
       "      <td>80</td>\n",
       "      <td>80</td>\n",
       "      <td>2548</td>\n",
       "      <td>140868</td>\n",
       "      <td>1</td>\n",
       "    </tr>\n",
       "    <tr>\n",
       "      <th>1240</th>\n",
       "      <td>5040</td>\n",
       "      <td>75680</td>\n",
       "      <td>17520</td>\n",
       "      <td>15120</td>\n",
       "      <td>10080</td>\n",
       "      <td>0</td>\n",
       "      <td>123440</td>\n",
       "      <td>0</td>\n",
       "    </tr>\n",
       "    <tr>\n",
       "      <th>344</th>\n",
       "      <td>13040</td>\n",
       "      <td>65440</td>\n",
       "      <td>16960</td>\n",
       "      <td>13040</td>\n",
       "      <td>4880</td>\n",
       "      <td>6441</td>\n",
       "      <td>119801</td>\n",
       "      <td>0</td>\n",
       "    </tr>\n",
       "    <tr>\n",
       "      <th>118</th>\n",
       "      <td>10640</td>\n",
       "      <td>76080</td>\n",
       "      <td>13840</td>\n",
       "      <td>0</td>\n",
       "      <td>17280</td>\n",
       "      <td>0</td>\n",
       "      <td>117840</td>\n",
       "      <td>0</td>\n",
       "    </tr>\n",
       "    <tr>\n",
       "      <th>440</th>\n",
       "      <td>1920</td>\n",
       "      <td>77920</td>\n",
       "      <td>15760</td>\n",
       "      <td>15520</td>\n",
       "      <td>5120</td>\n",
       "      <td>747</td>\n",
       "      <td>116987</td>\n",
       "      <td>0</td>\n",
       "    </tr>\n",
       "  </tbody>\n",
       "</table>\n",
       "</div>"
      ],
      "text/plain": [
       "             Amt Fresh Produce  Amt Meat and Seafood  Amt Household Supplies  \\\n",
       "Customer_ID                                                                    \n",
       "21                          80                138000                      80   \n",
       "1240                      5040                 75680                   17520   \n",
       "344                      13040                 65440                   16960   \n",
       "118                      10640                 76080                   13840   \n",
       "440                       1920                 77920                   15760   \n",
       "\n",
       "             Amt Health and Wellness  Amt Beverages & Frozen Food  \\\n",
       "Customer_ID                                                         \n",
       "21                                80                           80   \n",
       "1240                           15120                        10080   \n",
       "344                            13040                         4880   \n",
       "118                                0                        17280   \n",
       "440                            15520                         5120   \n",
       "\n",
       "             Amt Dairy and Eggs  TotalAmt  Cluster  \n",
       "Customer_ID                                         \n",
       "21                         2548    140868        1  \n",
       "1240                          0    123440        0  \n",
       "344                        6441    119801        0  \n",
       "118                           0    117840        0  \n",
       "440                         747    116987        0  "
      ]
     },
     "execution_count": 51,
     "metadata": {},
     "output_type": "execute_result"
    }
   ],
   "source": [
    "df.groupby('Customer_ID')[amt_cols].sum().sort_values(by='TotalAmt', ascending=False).head(5)"
   ]
  },
  {
   "cell_type": "code",
   "execution_count": 52,
   "id": "29d63426",
   "metadata": {},
   "outputs": [],
   "source": [
    "# Bottom 5 customers by Total Sales Volume"
   ]
  },
  {
   "cell_type": "code",
   "execution_count": 53,
   "id": "17bd8de8",
   "metadata": {},
   "outputs": [
    {
     "data": {
      "text/html": [
       "<div>\n",
       "<style scoped>\n",
       "    .dataframe tbody tr th:only-of-type {\n",
       "        vertical-align: middle;\n",
       "    }\n",
       "\n",
       "    .dataframe tbody tr th {\n",
       "        vertical-align: top;\n",
       "    }\n",
       "\n",
       "    .dataframe thead th {\n",
       "        text-align: right;\n",
       "    }\n",
       "</style>\n",
       "<table border=\"1\" class=\"dataframe\">\n",
       "  <thead>\n",
       "    <tr style=\"text-align: right;\">\n",
       "      <th></th>\n",
       "      <th>Amt Fresh Produce</th>\n",
       "      <th>Amt Meat and Seafood</th>\n",
       "      <th>Amt Household Supplies</th>\n",
       "      <th>Amt Health and Wellness</th>\n",
       "      <th>Amt Beverages &amp; Frozen Food</th>\n",
       "      <th>Amt Dairy and Eggs</th>\n",
       "      <th>TotalAmt</th>\n",
       "      <th>Cluster</th>\n",
       "    </tr>\n",
       "    <tr>\n",
       "      <th>Customer_ID</th>\n",
       "      <th></th>\n",
       "      <th></th>\n",
       "      <th></th>\n",
       "      <th></th>\n",
       "      <th></th>\n",
       "      <th></th>\n",
       "      <th></th>\n",
       "      <th></th>\n",
       "    </tr>\n",
       "  </thead>\n",
       "  <tbody>\n",
       "    <tr>\n",
       "      <th>1581</th>\n",
       "      <td>0</td>\n",
       "      <td>320</td>\n",
       "      <td>0</td>\n",
       "      <td>0</td>\n",
       "      <td>0</td>\n",
       "      <td>0</td>\n",
       "      <td>320</td>\n",
       "      <td>1</td>\n",
       "    </tr>\n",
       "    <tr>\n",
       "      <th>485</th>\n",
       "      <td>0</td>\n",
       "      <td>320</td>\n",
       "      <td>0</td>\n",
       "      <td>0</td>\n",
       "      <td>0</td>\n",
       "      <td>0</td>\n",
       "      <td>320</td>\n",
       "      <td>1</td>\n",
       "    </tr>\n",
       "    <tr>\n",
       "      <th>1749</th>\n",
       "      <td>0</td>\n",
       "      <td>240</td>\n",
       "      <td>0</td>\n",
       "      <td>0</td>\n",
       "      <td>0</td>\n",
       "      <td>0</td>\n",
       "      <td>240</td>\n",
       "      <td>2</td>\n",
       "    </tr>\n",
       "    <tr>\n",
       "      <th>711</th>\n",
       "      <td>0</td>\n",
       "      <td>240</td>\n",
       "      <td>0</td>\n",
       "      <td>0</td>\n",
       "      <td>0</td>\n",
       "      <td>0</td>\n",
       "      <td>240</td>\n",
       "      <td>2</td>\n",
       "    </tr>\n",
       "    <tr>\n",
       "      <th>62</th>\n",
       "      <td>0</td>\n",
       "      <td>80</td>\n",
       "      <td>0</td>\n",
       "      <td>0</td>\n",
       "      <td>0</td>\n",
       "      <td>0</td>\n",
       "      <td>80</td>\n",
       "      <td>2</td>\n",
       "    </tr>\n",
       "  </tbody>\n",
       "</table>\n",
       "</div>"
      ],
      "text/plain": [
       "             Amt Fresh Produce  Amt Meat and Seafood  Amt Household Supplies  \\\n",
       "Customer_ID                                                                    \n",
       "1581                         0                   320                       0   \n",
       "485                          0                   320                       0   \n",
       "1749                         0                   240                       0   \n",
       "711                          0                   240                       0   \n",
       "62                           0                    80                       0   \n",
       "\n",
       "             Amt Health and Wellness  Amt Beverages & Frozen Food  \\\n",
       "Customer_ID                                                         \n",
       "1581                               0                            0   \n",
       "485                                0                            0   \n",
       "1749                               0                            0   \n",
       "711                                0                            0   \n",
       "62                                 0                            0   \n",
       "\n",
       "             Amt Dairy and Eggs  TotalAmt  Cluster  \n",
       "Customer_ID                                         \n",
       "1581                          0       320        1  \n",
       "485                           0       320        1  \n",
       "1749                          0       240        2  \n",
       "711                           0       240        2  \n",
       "62                            0        80        2  "
      ]
     },
     "execution_count": 53,
     "metadata": {},
     "output_type": "execute_result"
    }
   ],
   "source": [
    "df.groupby('Customer_ID')[amt_cols].sum().sort_values(by='TotalAmt', ascending=False).tail(5)"
   ]
  },
  {
   "cell_type": "markdown",
   "id": "8619e54d",
   "metadata": {},
   "source": [
    "#### **Observation**\n",
    "1. More than 50% of the sales is coming from Product *'Meat&SeaFood'*\n",
    "2. *'Diary & Eggs'* are not performing up to the mark\n",
    "3. 'Health' products, 'Beverages' products & Household Supplies product are most popular among 2nd category of Customer"
   ]
  },
  {
   "cell_type": "markdown",
   "id": "c11f8059",
   "metadata": {},
   "source": [
    "## 3. Evaluation of Marketing Campaigns"
   ]
  },
  {
   "cell_type": "markdown",
   "id": "e6553826",
   "metadata": {},
   "source": [
    "### 3.1 Which Campaigns are getting most Clicks?"
   ]
  },
  {
   "cell_type": "code",
   "execution_count": 54,
   "id": "14439d54",
   "metadata": {},
   "outputs": [
    {
     "data": {
      "text/plain": [
       "Text(0, 0.5, 'Total Clicks')"
      ]
     },
     "execution_count": 54,
     "metadata": {},
     "output_type": "execute_result"
    },
    {
     "data": {
      "image/png": "[encoded data removed]",
      "text/plain": [
       "<Figure size 432x288 with 1 Axes>"
      ]
     },
     "metadata": {},
     "output_type": "display_data"
    }
   ],
   "source": [
    "df[col_mark].sum().plot(kind='bar');\n",
    "plt.title('TotalClicks per Campaigns', fontsize=14)\n",
    "plt.ylabel('Total Clicks')"
   ]
  },
  {
   "cell_type": "markdown",
   "id": "c5bab10b",
   "metadata": {},
   "source": [
    "        MarketingCampaign5 is not working up to the mark. We need to optimize it or change the strategy"
   ]
  },
  {
   "cell_type": "markdown",
   "id": "d85b0ca5",
   "metadata": {},
   "source": [
    "**Does FamilySize is influencing the Clicks of the Campaigns?**"
   ]
  },
  {
   "cell_type": "code",
   "execution_count": 55,
   "id": "9a24ba80",
   "metadata": {},
   "outputs": [
    {
     "data": {
      "text/plain": [
       "FamilySize\n",
       "5    140\n",
       "1    121\n",
       "2    119\n",
       "4    117\n",
       "3     97\n",
       "Name: TotalClick, dtype: int64"
      ]
     },
     "execution_count": 55,
     "metadata": {},
     "output_type": "execute_result"
    }
   ],
   "source": [
    "df.groupby('FamilySize')['TotalClick'].sum().sort_values(ascending=False)"
   ]
  },
  {
   "cell_type": "markdown",
   "id": "3d133e76",
   "metadata": {},
   "source": [
    "    No Strong Pattern noticed with Clicks according to the family Size"
   ]
  },
  {
   "cell_type": "markdown",
   "id": "b0fff106",
   "metadata": {},
   "source": [
    "### 3.1 Conversion Ratio for Specific Marketing Campaigns"
   ]
  },
  {
   "cell_type": "code",
   "execution_count": 56,
   "id": "f7292b70",
   "metadata": {},
   "outputs": [
    {
     "data": {
      "text/plain": [
       "2    893\n",
       "1    779\n",
       "0    327\n",
       "Name: Cluster, dtype: int64"
      ]
     },
     "execution_count": 56,
     "metadata": {},
     "output_type": "execute_result"
    }
   ],
   "source": [
    "df.Cluster.value_counts()"
   ]
  },
  {
   "cell_type": "code",
   "execution_count": 57,
   "id": "fd15787b",
   "metadata": {},
   "outputs": [],
   "source": [
    "df_cr1 = pd.DataFrame(df.groupby('Cluster')['Click_MarketingCmpgn1'].value_counts(normalize=True))\n",
    "df_cr1.rename(columns={'Click_MarketingCmpgn1':'click_rates_campaign1'}, inplace=True)"
   ]
  },
  {
   "cell_type": "code",
   "execution_count": 58,
   "id": "e4c09439",
   "metadata": {},
   "outputs": [],
   "source": [
    "df_cr2 = pd.DataFrame(df.groupby('Cluster')['Click_MarketingCmpgn2'].value_counts(normalize=True))\n",
    "df_cr2.rename(columns={'Click_MarketingCmpgn2':'click_rates_campaign2'}, inplace=True)"
   ]
  },
  {
   "cell_type": "code",
   "execution_count": 59,
   "id": "356e074a",
   "metadata": {},
   "outputs": [],
   "source": [
    "df_cr3 = pd.DataFrame(df.groupby('Cluster')['Click_MarketingCmpgn3'].value_counts(normalize=True))\n",
    "df_cr3.rename(columns={'Click_MarketingCmpgn3':'click_rates_campaign3'}, inplace=True)"
   ]
  },
  {
   "cell_type": "code",
   "execution_count": 60,
   "id": "baa49bda",
   "metadata": {},
   "outputs": [],
   "source": [
    "df_cr4 = pd.DataFrame(df.groupby('Cluster')['Click_MarketingCmpgn4'].value_counts(normalize=True))\n",
    "df_cr4.rename(columns={'Click_MarketingCmpgn4':'click_rates_campaign4'}, inplace=True)"
   ]
  },
  {
   "cell_type": "code",
   "execution_count": 61,
   "id": "ab63a07d",
   "metadata": {},
   "outputs": [],
   "source": [
    "df_cr5 = pd.DataFrame(df.groupby('Cluster')['Click_MarketingCmpgn5'].value_counts(normalize=True))\n",
    "df_cr5.rename(columns={'Click_MarketingCmpgn5':'click_rates_campaign5'}, inplace=True)"
   ]
  },
  {
   "cell_type": "code",
   "execution_count": 62,
   "id": "c291d9a4",
   "metadata": {},
   "outputs": [],
   "source": [
    "dfmarket = pd.concat([df_cr1,df_cr2,df_cr3,df_cr4,df_cr5], axis=1)"
   ]
  },
  {
   "cell_type": "code",
   "execution_count": 63,
   "id": "5b4ff6e4",
   "metadata": {},
   "outputs": [
    {
     "data": {
      "text/html": [
       "<div>\n",
       "<style scoped>\n",
       "    .dataframe tbody tr th:only-of-type {\n",
       "        vertical-align: middle;\n",
       "    }\n",
       "\n",
       "    .dataframe tbody tr th {\n",
       "        vertical-align: top;\n",
       "    }\n",
       "\n",
       "    .dataframe thead th {\n",
       "        text-align: right;\n",
       "    }\n",
       "</style>\n",
       "<table border=\"1\" class=\"dataframe\">\n",
       "  <thead>\n",
       "    <tr style=\"text-align: right;\">\n",
       "      <th></th>\n",
       "      <th></th>\n",
       "      <th>click_rates_campaign1</th>\n",
       "      <th>click_rates_campaign2</th>\n",
       "      <th>click_rates_campaign3</th>\n",
       "      <th>click_rates_campaign4</th>\n",
       "      <th>click_rates_campaign5</th>\n",
       "    </tr>\n",
       "    <tr>\n",
       "      <th>Cluster</th>\n",
       "      <th></th>\n",
       "      <th></th>\n",
       "      <th></th>\n",
       "      <th></th>\n",
       "      <th></th>\n",
       "      <th></th>\n",
       "    </tr>\n",
       "  </thead>\n",
       "  <tbody>\n",
       "    <tr>\n",
       "      <th rowspan=\"2\" valign=\"top\">0</th>\n",
       "      <th>0</th>\n",
       "      <td>0.92</td>\n",
       "      <td>0.88</td>\n",
       "      <td>0.72</td>\n",
       "      <td>0.76</td>\n",
       "      <td>0.98</td>\n",
       "    </tr>\n",
       "    <tr>\n",
       "      <th>1</th>\n",
       "      <td>0.08</td>\n",
       "      <td>0.12</td>\n",
       "      <td>0.28</td>\n",
       "      <td>0.24</td>\n",
       "      <td>0.02</td>\n",
       "    </tr>\n",
       "    <tr>\n",
       "      <th rowspan=\"2\" valign=\"top\">1</th>\n",
       "      <th>0</th>\n",
       "      <td>0.95</td>\n",
       "      <td>0.87</td>\n",
       "      <td>0.93</td>\n",
       "      <td>0.94</td>\n",
       "      <td>0.98</td>\n",
       "    </tr>\n",
       "    <tr>\n",
       "      <th>1</th>\n",
       "      <td>0.05</td>\n",
       "      <td>0.13</td>\n",
       "      <td>0.07</td>\n",
       "      <td>0.06</td>\n",
       "      <td>0.02</td>\n",
       "    </tr>\n",
       "    <tr>\n",
       "      <th rowspan=\"2\" valign=\"top\">2</th>\n",
       "      <th>0</th>\n",
       "      <td>0.91</td>\n",
       "      <td>0.99</td>\n",
       "      <td>1.00</td>\n",
       "      <td>1.00</td>\n",
       "      <td>1.00</td>\n",
       "    </tr>\n",
       "    <tr>\n",
       "      <th>1</th>\n",
       "      <td>0.09</td>\n",
       "      <td>0.01</td>\n",
       "      <td>NaN</td>\n",
       "      <td>0.00</td>\n",
       "      <td>0.00</td>\n",
       "    </tr>\n",
       "  </tbody>\n",
       "</table>\n",
       "</div>"
      ],
      "text/plain": [
       "           click_rates_campaign1  click_rates_campaign2  \\\n",
       "Cluster                                                   \n",
       "0       0                   0.92                   0.88   \n",
       "        1                   0.08                   0.12   \n",
       "1       0                   0.95                   0.87   \n",
       "        1                   0.05                   0.13   \n",
       "2       0                   0.91                   0.99   \n",
       "        1                   0.09                   0.01   \n",
       "\n",
       "           click_rates_campaign3  click_rates_campaign4  click_rates_campaign5  \n",
       "Cluster                                                                         \n",
       "0       0                   0.72                   0.76                   0.98  \n",
       "        1                   0.28                   0.24                   0.02  \n",
       "1       0                   0.93                   0.94                   0.98  \n",
       "        1                   0.07                   0.06                   0.02  \n",
       "2       0                   1.00                   1.00                   1.00  \n",
       "        1                    NaN                   0.00                   0.00  "
      ]
     },
     "execution_count": 63,
     "metadata": {},
     "output_type": "execute_result"
    }
   ],
   "source": [
    "dfmarket"
   ]
  },
  {
   "cell_type": "code",
   "execution_count": 64,
   "id": "b34e952a",
   "metadata": {},
   "outputs": [
    {
     "data": {
      "text/plain": [
       "Text(0, 0.5, 'Click_Rates')"
      ]
     },
     "execution_count": 64,
     "metadata": {},
     "output_type": "execute_result"
    },
    {
     "data": {
      "image/png": "[encoded data removed]",
      "text/plain": [
       "<Figure size 432x288 with 1 Axes>"
      ]
     },
     "metadata": {},
     "output_type": "display_data"
    }
   ],
   "source": [
    "# click rates of the different campaigns can be only efficient when click_through_rate is 1\n",
    "dfmarket.iloc[[1,3,5]].plot(kind='bar')\n",
    "plt.title(\"Segment wise Click_Rates\")\n",
    "plt.xlabel(\"Customer Segments, clicks_value - 1\")\n",
    "plt.ylabel(\"Click_Rates\")"
   ]
  },
  {
   "cell_type": "markdown",
   "id": "30ee539d",
   "metadata": {},
   "source": [
    "**Observation**\n",
    "1. Campaign 3 & 4 got most click rates from Cluster 0 customers, while Campaign 1 is more efficient for Cluster 2"
   ]
  },
  {
   "cell_type": "markdown",
   "id": "030b2520-571a-4140-8410-304bf57654a5",
   "metadata": {},
   "source": [
    "## 4. Customer Retention & Satisfaction"
   ]
  },
  {
   "cell_type": "markdown",
   "id": "5b645cf7-668e-4efb-a376-58e8268bd10a",
   "metadata": {},
   "source": [
    "### 4.1 Customer Satisfaction Analysis"
   ]
  },
  {
   "cell_type": "markdown",
   "id": "9dd5f001-722e-4163-bab2-4247655f5e1a",
   "metadata": {},
   "source": [
    "**4.1.1 How many customers have complained??**"
   ]
  },
  {
   "cell_type": "code",
   "execution_count": 65,
   "id": "d3adc1aa-bb6d-4566-aa5e-0382720307bb",
   "metadata": {},
   "outputs": [
    {
     "name": "stdout",
     "output_type": "stream",
     "text": [
      "There are 264 complains out of 2000 customers\n"
     ]
    }
   ],
   "source": [
    "complain = df[df['Complaints']>0].Complaints.count()\n",
    "print('There are', complain, 'complains out of 2000 customers')"
   ]
  },
  {
   "cell_type": "markdown",
   "id": "ab157934-04f2-4385-bda1-395090bea277",
   "metadata": {},
   "source": [
    "**Complain Ratio**"
   ]
  },
  {
   "cell_type": "code",
   "execution_count": 66,
   "id": "424ee9ef-40d3-415a-b34f-3572e75b4d35",
   "metadata": {},
   "outputs": [
    {
     "data": {
      "text/plain": [
       "0.132"
      ]
     },
     "execution_count": 66,
     "metadata": {},
     "output_type": "execute_result"
    }
   ],
   "source": [
    "complain/2000"
   ]
  },
  {
   "cell_type": "code",
   "execution_count": 67,
   "id": "f6eb4d23",
   "metadata": {},
   "outputs": [
    {
     "name": "stdout",
     "output_type": "stream",
     "text": [
      "1     40\n",
      "9     34\n",
      "3     30\n",
      "5     29\n",
      "8     27\n",
      "7     27\n",
      "6     22\n",
      "10    21\n",
      "2     19\n",
      "4     15\n",
      "Name: Complaints, dtype: int64\n"
     ]
    },
    {
     "data": {
      "text/plain": [
       "Text(0.5, 0, 'No. of times Complain lodged')"
      ]
     },
     "execution_count": 67,
     "metadata": {},
     "output_type": "execute_result"
    },
    {
     "data": {
      "image/png": "[encoded data removed]",
      "text/plain": [
       "<Figure size 432x288 with 1 Axes>"
      ]
     },
     "metadata": {},
     "output_type": "display_data"
    }
   ],
   "source": [
    "# Complains which are more than 0\n",
    "unique_complain = df[df['Complaints']>0].Complaints.value_counts()\n",
    "print(unique_complain)\n",
    "\n",
    "# plot to view the graph of unique complains\n",
    "plt.title(\"Counts of Unique Compains\", fontsize=14)\n",
    "unique_complain.plot(kind='bar')\n",
    "plt.ylabel('Total no. of customer who Complains')\n",
    "plt.xlabel(\"No. of times Complain lodged\")"
   ]
  },
  {
   "cell_type": "markdown",
   "id": "66dd73e2-38f8-46b2-b7bc-df48b28540e8",
   "metadata": {},
   "source": [
    "    We have to take special care for the complains more than 5. Further we should look into the customer segment to understand from which segments most of the complains are coming.\n",
    "    There are almost 34 customer who have complained 9 times, 27 customers who have complained 7 & 8 times, 22 customers who have complained 6 times> These Customers required attention and we should prioritize according to the customer segment"
   ]
  },
  {
   "cell_type": "markdown",
   "id": "90cf670f-9aaa-4366-90bf-240d4ed94dab",
   "metadata": {},
   "source": [
    "#### **From which customer segment most of the complains are coming?**"
   ]
  },
  {
   "cell_type": "code",
   "execution_count": 68,
   "id": "bc73d8d0-187d-41e0-be36-3db5615beca1",
   "metadata": {},
   "outputs": [
    {
     "data": {
      "text/plain": [
       "Cluster\n",
       "0    93\n",
       "1    78\n",
       "2    93\n",
       "Name: Complaints, dtype: int64"
      ]
     },
     "execution_count": 68,
     "metadata": {},
     "output_type": "execute_result"
    }
   ],
   "source": [
    "df[df['Complaints']>0].groupby('Cluster')['Complaints'].count()"
   ]
  },
  {
   "cell_type": "markdown",
   "id": "7082dcd5-ebe0-49ce-8cd8-ccf54cb18a6f",
   "metadata": {},
   "source": [
    "    Most of the complains are comming from Cluster segment 0 and 2. But we should look with priority into the complains of cluster segment 0 & 1 since these are our prime customes. Any complaints more than 5 is alarming for the organization. Hence we should look into the pattern of the complains with Customer Segments"
   ]
  },
  {
   "cell_type": "code",
   "execution_count": 69,
   "id": "e1788c23-2b5f-4697-a1c8-3f18a37803d0",
   "metadata": {},
   "outputs": [
    {
     "data": {
      "text/plain": [
       "Text(13.5, 15, 'Cluster 2')"
      ]
     },
     "execution_count": 69,
     "metadata": {},
     "output_type": "execute_result"
    },
    {
     "data": {
      "image/png": "[encoded data removed]",
      "text/plain": [
       "<Figure size 432x288 with 1 Axes>"
      ]
     },
     "metadata": {},
     "output_type": "display_data"
    }
   ],
   "source": [
    "df[df['Complaints']>4].groupby('Cluster')['Complaints'].value_counts().plot(kind='bar', \n",
    "                                                                                      color=['red', 'red','red', 'red', 'red', 'red',\n",
    "                                                                                             'blue','blue','blue','blue','blue','blue',\n",
    "                                                                                             'green','green','green','green','green', 'green'])\n",
    "plt.title(\"Customer Segment wise Complains\")\n",
    "plt.xlabel('Clusters, No. of Complains')\n",
    "plt.ylabel('Total no. of customers who complained')\n",
    "plt.text(2, 15, \"Cluster 0\")\n",
    "plt.text(7.5, 15, \"Cluster 1\")\n",
    "plt.text(13.5, 15, \"Cluster 2\")"
   ]
  },
  {
   "cell_type": "markdown",
   "id": "013d91d0-3c24-4520-8c1d-db15ec798cba",
   "metadata": {},
   "source": [
    "    Highest frequency of Complains are coming from Cluster 0. There are 16 customer from our prime customer segment who have complained 9 times, 12 customers who have complained 7 times and 9 customers who have compained 8 times.We should look into these customers with utmost priority.\n",
    "    Similar trend is noticed from Customer Segment 1 should be checked with next level priority.\n",
    "    Customer from Cluster 2 have less high frequency of complains as compared to other 2 cluster."
   ]
  },
  {
   "cell_type": "code",
   "execution_count": 70,
   "id": "a7592f41",
   "metadata": {},
   "outputs": [],
   "source": [
    "# dataframe with customer segment 0\n",
    "df_clus0 = df[df.iloc[:,[0,16,21]].Cluster==0]"
   ]
  },
  {
   "cell_type": "code",
   "execution_count": 71,
   "id": "969de26d-5f57-4cca-90fc-ef4e1075e075",
   "metadata": {},
   "outputs": [
    {
     "name": "stdout",
     "output_type": "stream",
     "text": [
      "[  52   56   71   72  265  323  450  527  530  538  570  627  772  801\n",
      "  826  887  895  947  968 1011 1065 1118 1171 1281 1314 1329 1331 1419\n",
      " 1428 1449 1504 1560 1624 1634 1647 1718 1814 1825 1862 1928 1965 1967\n",
      " 1989]\n"
     ]
    }
   ],
   "source": [
    "# cluster 0 customers complained more than 6 times\n",
    "print(df_clus0[df_clus0['Complaints']>6].Customer_ID.values)"
   ]
  },
  {
   "cell_type": "markdown",
   "id": "8cba2158-dfa7-482a-a188-754d355af6f4",
   "metadata": {},
   "source": [
    "    These are the Customer_ID who are our prime customers and complained 7,8,9 or 10 times. We should approach them to understand their grievance and treat will special discount to gain customer satisfaction built trust."
   ]
  },
  {
   "cell_type": "code",
   "execution_count": 72,
   "id": "27a7b430-7f0c-4523-a5f1-bd9a47841445",
   "metadata": {},
   "outputs": [],
   "source": [
    "# dataframe with customer segment 0\n",
    "df_clus1 = df[df.iloc[:,[0,16,21]].Cluster==1]"
   ]
  },
  {
   "cell_type": "code",
   "execution_count": 73,
   "id": "70bf5c39-a651-477b-82d3-162481be7ca3",
   "metadata": {},
   "outputs": [
    {
     "name": "stdout",
     "output_type": "stream",
     "text": [
      "[  74   82  105  131  165  191  197  263  321  388  402  407  543  684\n",
      "  803  893  937  981 1003 1247 1311 1466 1473 1480 1617 1644 1694 1809\n",
      " 1820 1855 1903 1911]\n"
     ]
    }
   ],
   "source": [
    "# cluster 1 customers complained more than 6 times\n",
    "print(df_clus1[df_clus1['Complaints']>6].Customer_ID.values)"
   ]
  },
  {
   "cell_type": "markdown",
   "id": "3c414fac-5b43-467f-8a31-8153f71f8e69",
   "metadata": {},
   "source": [
    "    These are the Customer_ID who are average customers and complained 7,8,9 or 10 times. We should also approach them to understand their grievance and treat will offers or customer support to gain customer satisfaction built trust."
   ]
  },
  {
   "cell_type": "markdown",
   "id": "01a37a6e-fbdf-4e6d-9338-6d7cd689220a",
   "metadata": {},
   "source": [
    "### 4.2 Customer Retention"
   ]
  },
  {
   "cell_type": "markdown",
   "id": "e98cfd33-0eaa-4522-950f-7b41037b81b8",
   "metadata": {},
   "source": [
    "#### **4.2.1 How many customer's have subsribed?**"
   ]
  },
  {
   "cell_type": "code",
   "execution_count": 74,
   "id": "ab36988e-e8c9-4593-a185-9af7276f18ac",
   "metadata": {},
   "outputs": [
    {
     "data": {
      "text/plain": [
       "0    1145\n",
       "1     854\n",
       "Name: SubscriptionTaken, dtype: int64"
      ]
     },
     "execution_count": 74,
     "metadata": {},
     "output_type": "execute_result"
    }
   ],
   "source": [
    "subs_taken = df.SubscriptionTaken.value_counts()\n",
    "subs_taken"
   ]
  },
  {
   "cell_type": "markdown",
   "id": "56f2ad67-4a41-426d-9530-1eae13a73c40",
   "metadata": {},
   "source": [
    "1. 854 out of 2000 Customers have taken subscription. \n",
    "    * We should now focus on measures to increase Customer satisfaction & customize marketing campaign to generate revenue from the premium customers who have taken subscription. \n",
    "2. Customer who have not taken the subscription, we should identify the purchasing pattern and resolve the complains. These can further built trust and might get converted into subscribed customers. "
   ]
  },
  {
   "cell_type": "markdown",
   "id": "1be8a960-14b0-483d-b68c-2623205aa441",
   "metadata": {},
   "source": [
    "#### **4.2.2 Purchasing Pattern by Subscribed & UnSubscribed Customers**"
   ]
  },
  {
   "cell_type": "code",
   "execution_count": 75,
   "id": "2f193d21-5201-4a4c-a86a-770ba28280bd",
   "metadata": {},
   "outputs": [
    {
     "data": {
      "image/png": "[encoded data removed]",
      "text/plain": [
       "<Figure size 432x288 with 1 Axes>"
      ]
     },
     "metadata": {},
     "output_type": "display_data"
    }
   ],
   "source": [
    "purchase = list(df.groupby('SubscriptionTaken')['TotalAmt'].sum().values)\n",
    "labels = list(df.groupby('SubscriptionTaken')['TotalAmt'].sum().index)\n",
    "exp = (0.1, 0)\n",
    "\n",
    "plt.title(\"Total Amount Spend by Subscription Status\")\n",
    "plt.pie(x=purchase, labels=labels,explode=exp,autopct='%.2f%%',shadow=True, startangle=90);\n",
    "plt.show()"
   ]
  },
  {
   "cell_type": "markdown",
   "id": "7d463097-1ebe-4056-bac3-35ba164f66bf",
   "metadata": {},
   "source": [
    "    55% of the Revenue is generated from the Unsubscribed Customers while 45% revenue is generated by Subsribed customers"
   ]
  },
  {
   "cell_type": "markdown",
   "id": "d7548f02-3458-411b-a82f-79b5be751629",
   "metadata": {},
   "source": [
    "#### **4.2.3 Purchase pattern of speficic Segments of customer by Subscription Status**"
   ]
  },
  {
   "cell_type": "code",
   "execution_count": 76,
   "id": "b3ee9416-6646-4477-b98c-d94d0dd5b236",
   "metadata": {},
   "outputs": [
    {
     "data": {
      "text/html": [
       "<div>\n",
       "<style scoped>\n",
       "    .dataframe tbody tr th:only-of-type {\n",
       "        vertical-align: middle;\n",
       "    }\n",
       "\n",
       "    .dataframe tbody tr th {\n",
       "        vertical-align: top;\n",
       "    }\n",
       "\n",
       "    .dataframe thead th {\n",
       "        text-align: right;\n",
       "    }\n",
       "</style>\n",
       "<table border=\"1\" class=\"dataframe\">\n",
       "  <thead>\n",
       "    <tr style=\"text-align: right;\">\n",
       "      <th>Cluster</th>\n",
       "      <th>0</th>\n",
       "      <th>1</th>\n",
       "      <th>2</th>\n",
       "      <th>All</th>\n",
       "    </tr>\n",
       "    <tr>\n",
       "      <th>SubscriptionTaken</th>\n",
       "      <th></th>\n",
       "      <th></th>\n",
       "      <th></th>\n",
       "      <th></th>\n",
       "    </tr>\n",
       "  </thead>\n",
       "  <tbody>\n",
       "    <tr>\n",
       "      <th>0</th>\n",
       "      <td>0.26</td>\n",
       "      <td>0.22</td>\n",
       "      <td>0.06</td>\n",
       "      <td>0.55</td>\n",
       "    </tr>\n",
       "    <tr>\n",
       "      <th>1</th>\n",
       "      <td>0.22</td>\n",
       "      <td>0.18</td>\n",
       "      <td>0.05</td>\n",
       "      <td>0.45</td>\n",
       "    </tr>\n",
       "    <tr>\n",
       "      <th>All</th>\n",
       "      <td>0.48</td>\n",
       "      <td>0.40</td>\n",
       "      <td>0.11</td>\n",
       "      <td>1.00</td>\n",
       "    </tr>\n",
       "  </tbody>\n",
       "</table>\n",
       "</div>"
      ],
      "text/plain": [
       "Cluster              0    1    2  All\n",
       "SubscriptionTaken                    \n",
       "0                 0.26 0.22 0.06 0.55\n",
       "1                 0.22 0.18 0.05 0.45\n",
       "All               0.48 0.40 0.11 1.00"
      ]
     },
     "execution_count": 76,
     "metadata": {},
     "output_type": "execute_result"
    }
   ],
   "source": [
    "pd.crosstab(df.SubscriptionTaken, df.Cluster, values=df.TotalAmt, aggfunc=sum, normalize=True, margins=True)"
   ]
  },
  {
   "cell_type": "code",
   "execution_count": 77,
   "id": "39a9ba43-b539-4688-ab7e-589fc12ec2d8",
   "metadata": {},
   "outputs": [],
   "source": [
    "val = pd.crosstab(df.SubscriptionTaken, df.Cluster, values=df.TotalAmt, aggfunc=sum, normalize=True).values"
   ]
  },
  {
   "cell_type": "code",
   "execution_count": 78,
   "id": "13138bb6-f225-4874-adb5-9719ca7dd1d4",
   "metadata": {},
   "outputs": [],
   "source": [
    "val = val.flatten()"
   ]
  },
  {
   "cell_type": "code",
   "execution_count": 79,
   "id": "4ad33722-7816-41f0-81f0-3ff5c2253c61",
   "metadata": {},
   "outputs": [],
   "source": [
    "labels = ['Cluster 0 - NoSub', 'Cluster 1 - NoSub','Cluster 2 - NoSub', 'Cluster 0 - Sub', 'Cluster 1 - Sub','Cluster 2 - Sub']"
   ]
  },
  {
   "cell_type": "code",
   "execution_count": 80,
   "id": "3fae25b7-c115-4b98-9b86-3dea6fc9a79e",
   "metadata": {},
   "outputs": [
    {
     "data": {
      "image/png": "[encoded data removed]",
      "text/plain": [
       "<Figure size 432x288 with 1 Axes>"
      ]
     },
     "metadata": {},
     "output_type": "display_data"
    }
   ],
   "source": [
    "plt.title(\"Total Amount Spend by Subscription Status\")\n",
    "plt.pie(x=val, labels=labels,autopct='%.2f%%', startangle=75);\n",
    "plt.show()"
   ]
  },
  {
   "cell_type": "markdown",
   "id": "21278323-61be-4497-8aae-0de0d93d6527",
   "metadata": {},
   "source": [
    "    More than 26% of the revenue is generated from the Customer segment of Cluster 0 who have not subscribed. If we can create impression with improvised marketing campaigns to increase the click rate and convert them to Subscribed Customers then we can increase the subscription status which can further result in growth of Revenue.\n",
    "    Same Strategy could be applied to the customers of Cluster 1 who are non subscriber. ALmost 22% of the Total Revenue is Generated from this category of customers. "
   ]
  },
  {
   "cell_type": "markdown",
   "id": "b08513ce-8ba0-4185-b5bb-0c03ab1ea05b",
   "metadata": {},
   "source": [
    "#### **4.2.4 Customer Who are more responsive to the marketing campaigns?**"
   ]
  },
  {
   "cell_type": "code",
   "execution_count": 81,
   "id": "f824d4b4-3c5b-4b09-a2e9-8ebeaa5cac70",
   "metadata": {},
   "outputs": [
    {
     "data": {
      "text/html": [
       "<div>\n",
       "<style scoped>\n",
       "    .dataframe tbody tr th:only-of-type {\n",
       "        vertical-align: middle;\n",
       "    }\n",
       "\n",
       "    .dataframe tbody tr th {\n",
       "        vertical-align: top;\n",
       "    }\n",
       "\n",
       "    .dataframe thead th {\n",
       "        text-align: right;\n",
       "    }\n",
       "</style>\n",
       "<table border=\"1\" class=\"dataframe\">\n",
       "  <thead>\n",
       "    <tr style=\"text-align: right;\">\n",
       "      <th>Cluster</th>\n",
       "      <th>0</th>\n",
       "      <th>1</th>\n",
       "      <th>2</th>\n",
       "      <th>All</th>\n",
       "    </tr>\n",
       "    <tr>\n",
       "      <th>SubscriptionTaken</th>\n",
       "      <th></th>\n",
       "      <th></th>\n",
       "      <th></th>\n",
       "      <th></th>\n",
       "    </tr>\n",
       "  </thead>\n",
       "  <tbody>\n",
       "    <tr>\n",
       "      <th>0</th>\n",
       "      <td>0.22</td>\n",
       "      <td>0.27</td>\n",
       "      <td>0.08</td>\n",
       "      <td>0.57</td>\n",
       "    </tr>\n",
       "    <tr>\n",
       "      <th>1</th>\n",
       "      <td>0.19</td>\n",
       "      <td>0.17</td>\n",
       "      <td>0.07</td>\n",
       "      <td>0.43</td>\n",
       "    </tr>\n",
       "    <tr>\n",
       "      <th>All</th>\n",
       "      <td>0.41</td>\n",
       "      <td>0.44</td>\n",
       "      <td>0.15</td>\n",
       "      <td>1.00</td>\n",
       "    </tr>\n",
       "  </tbody>\n",
       "</table>\n",
       "</div>"
      ],
      "text/plain": [
       "Cluster              0    1    2  All\n",
       "SubscriptionTaken                    \n",
       "0                 0.22 0.27 0.08 0.57\n",
       "1                 0.19 0.17 0.07 0.43\n",
       "All               0.41 0.44 0.15 1.00"
      ]
     },
     "execution_count": 81,
     "metadata": {},
     "output_type": "execute_result"
    }
   ],
   "source": [
    "pd.crosstab(df.SubscriptionTaken, df.Cluster ,values=df.TotalClick, aggfunc=sum, normalize=True, margins=True)"
   ]
  },
  {
   "cell_type": "markdown",
   "id": "cc00d403-1aea-4369-82ef-5580932d6bc5",
   "metadata": {},
   "source": [
    "    Customer from Cluster 0 are and have taken the subscription have the highest click rate of 19%\n",
    "    We should take strategic measures to convert Cluster 0 & cluster 1 segment customers who are non subsriber because they have decent click rate of 22 %"
   ]
  },
  {
   "cell_type": "markdown",
   "id": "3a098b3a-f5a1-4029-a617-e43d60f14584",
   "metadata": {},
   "source": [
    "## 5. Revenue Enhancement"
   ]
  },
  {
   "cell_type": "markdown",
   "id": "28b98309-9362-432a-b3e9-d1ce811397b8",
   "metadata": {},
   "source": [
    "### 5.1 Analyzing Spending Pattern"
   ]
  },
  {
   "cell_type": "markdown",
   "id": "9dc15be5-a5a0-4331-8868-393bb8a93838",
   "metadata": {},
   "source": [
    "1. I have here examined how customer characterisitics such as MonthlyIncome and FamilySize relate to their spending on different product categories.\n",
    "2. Calculate average spending for different customer segments based on these characteristics."
   ]
  },
  {
   "cell_type": "markdown",
   "id": "1f55ae6f-9c7c-4580-8658-197512971e9b",
   "metadata": {},
   "source": [
    "**How MonthlyIncome influence the overall spending Pattern?**"
   ]
  },
  {
   "cell_type": "code",
   "execution_count": 82,
   "id": "4be13ec5-6a26-4d09-b755-5123a8b07d95",
   "metadata": {},
   "outputs": [
    {
     "data": {
      "image/png": "[encoded data removed]",
      "text/plain": [
       "<Figure size 1080x360 with 2 Axes>"
      ]
     },
     "metadata": {},
     "output_type": "display_data"
    }
   ],
   "source": [
    "plt.figure(figsize=(15,5))\n",
    "plt.subplot(121)\n",
    "plt.title('Spending Pattern with Income Status', fontsize=14)\n",
    "sns.scatterplot(data=df, x='MonthlyIncome', y='TotalAmt');\n",
    "\n",
    "plt.subplot(122)\n",
    "plt.title('Spending Pattern of Customer Segments', fontsize=14)\n",
    "sns.scatterplot(data=df, x='MonthlyIncome', y='TotalAmt', hue='Cluster');"
   ]
  },
  {
   "cell_type": "markdown",
   "id": "d7bebfea-80e6-4e8b-b063-b49a23737b02",
   "metadata": {},
   "source": [
    "    Clearly, There are spending pattern increases with increase in MonthlyIncome but the spending habit changes when Customers belongs from Cluster 0 segment who have high average monthly Income.\n",
    "    We can clearly interpret from the 2nd graph which illustrates the Spending Pattern of the Customer segments. "
   ]
  },
  {
   "cell_type": "code",
   "execution_count": 83,
   "id": "f27cb5aa-277d-471b-9f20-cf33e91b8118",
   "metadata": {},
   "outputs": [
    {
     "data": {
      "text/plain": [
       "Text(0.5, 0, 'MonthlyIncome')"
      ]
     },
     "execution_count": 83,
     "metadata": {},
     "output_type": "execute_result"
    },
    {
     "data": {
      "image/png": "[encoded data removed]",
      "text/plain": [
       "<Figure size 432x288 with 1 Axes>"
      ]
     },
     "metadata": {},
     "output_type": "display_data"
    }
   ],
   "source": [
    "df.groupby('Cluster')['TotalAmt'].mean().sort_values(ascending=True).plot(kind='barh', color=['green','blue', 'red']);\n",
    "plt.title('Average Spending for Each Customer Segments', fontsize=14)\n",
    "plt.xlabel('MonthlyIncome')"
   ]
  },
  {
   "cell_type": "markdown",
   "id": "445f4102-0f5f-40b3-a841-6ec7375ae47a",
   "metadata": {},
   "source": [
    "### 5.2 Identification of High Income Customers"
   ]
  },
  {
   "cell_type": "markdown",
   "id": "42d6f3cf-0ed4-4fa3-875e-822c9957987c",
   "metadata": {},
   "source": [
    "**Top 10 Customers with High Average Income**"
   ]
  },
  {
   "cell_type": "code",
   "execution_count": 84,
   "id": "49bafa46-2cbf-4678-b600-56adfb22a863",
   "metadata": {},
   "outputs": [],
   "source": [
    "high_income_cust = df.groupby('Customer_ID')['MonthlyIncome'].mean().sort_values(ascending=False).head(10)"
   ]
  },
  {
   "cell_type": "code",
   "execution_count": 85,
   "id": "19dc5f01-c0a1-48d1-b840-9597c7a16b00",
   "metadata": {},
   "outputs": [
    {
     "data": {
      "text/plain": [
       "Customer_ID\n",
       "633    194051.00\n",
       "1968   193926.00\n",
       "1957   190687.00\n",
       "108    190058.00\n",
       "130    189026.00\n",
       "1434   188957.00\n",
       "795    186883.00\n",
       "982    185911.00\n",
       "1816   184038.00\n",
       "1696   182416.00\n",
       "Name: MonthlyIncome, dtype: float64"
      ]
     },
     "execution_count": 85,
     "metadata": {},
     "output_type": "execute_result"
    }
   ],
   "source": [
    "high_income_cust"
   ]
  },
  {
   "cell_type": "markdown",
   "id": "0f521851-19ea-44cf-b1ac-ff57a9d907e8",
   "metadata": {},
   "source": [
    "        These are the top 10 customer who all have high average monthly income. We can provide customised persornal offer and promotions to generate more revenue from them."
   ]
  },
  {
   "cell_type": "code",
   "execution_count": 86,
   "id": "f053fd30-a42f-40de-8b5f-b2fdd6b2bfdb",
   "metadata": {},
   "outputs": [],
   "source": [
    "df_top = df.copy()"
   ]
  },
  {
   "cell_type": "code",
   "execution_count": 87,
   "id": "cf08614c-b18d-40e9-9412-f0b9e8a0b5c9",
   "metadata": {},
   "outputs": [],
   "source": [
    "# dataframe containing top 10 customers\n",
    "top = df_top.iloc[high_income_cust.index]"
   ]
  },
  {
   "cell_type": "code",
   "execution_count": 88,
   "id": "819bdd62-83f8-49f9-91a3-60b981782c40",
   "metadata": {},
   "outputs": [],
   "source": [
    "# taking the product columns for these customers to analyze their average spend on each products\n",
    "top=top[['Amt Fresh Produce', 'Amt Meat and Seafood','Amt Household Supplies', \n",
    "     'Amt Health and Wellness','Amt Beverages & Frozen Food', \n",
    "     'Amt Dairy and Eggs',]]"
   ]
  },
  {
   "cell_type": "code",
   "execution_count": 89,
   "id": "f76ef0b2-20cf-48a8-9b1b-7623d0287693",
   "metadata": {},
   "outputs": [
    {
     "data": {
      "text/html": [
       "<div>\n",
       "<style scoped>\n",
       "    .dataframe tbody tr th:only-of-type {\n",
       "        vertical-align: middle;\n",
       "    }\n",
       "\n",
       "    .dataframe tbody tr th {\n",
       "        vertical-align: top;\n",
       "    }\n",
       "\n",
       "    .dataframe thead th {\n",
       "        text-align: right;\n",
       "    }\n",
       "</style>\n",
       "<table border=\"1\" class=\"dataframe\">\n",
       "  <thead>\n",
       "    <tr style=\"text-align: right;\">\n",
       "      <th></th>\n",
       "      <th>Amt Fresh Produce</th>\n",
       "      <th>Amt Meat and Seafood</th>\n",
       "      <th>Amt Household Supplies</th>\n",
       "      <th>Amt Health and Wellness</th>\n",
       "      <th>Amt Beverages &amp; Frozen Food</th>\n",
       "      <th>Amt Dairy and Eggs</th>\n",
       "    </tr>\n",
       "  </thead>\n",
       "  <tbody>\n",
       "    <tr>\n",
       "      <th>634</th>\n",
       "      <td>6400.00</td>\n",
       "      <td>17360.00</td>\n",
       "      <td>2320.00</td>\n",
       "      <td>6400.00</td>\n",
       "      <td>880.00</td>\n",
       "      <td>0.00</td>\n",
       "    </tr>\n",
       "    <tr>\n",
       "      <th>1969</th>\n",
       "      <td>1680.00</td>\n",
       "      <td>10000.00</td>\n",
       "      <td>4160.00</td>\n",
       "      <td>8080.00</td>\n",
       "      <td>4960.00</td>\n",
       "      <td>831.00</td>\n",
       "    </tr>\n",
       "    <tr>\n",
       "      <th>1958</th>\n",
       "      <td>560.00</td>\n",
       "      <td>6480.00</td>\n",
       "      <td>1600.00</td>\n",
       "      <td>0.00</td>\n",
       "      <td>2160.00</td>\n",
       "      <td>707.00</td>\n",
       "    </tr>\n",
       "    <tr>\n",
       "      <th>109</th>\n",
       "      <td>400.00</td>\n",
       "      <td>2000.00</td>\n",
       "      <td>0.00</td>\n",
       "      <td>720.00</td>\n",
       "      <td>2400.00</td>\n",
       "      <td>0.00</td>\n",
       "    </tr>\n",
       "    <tr>\n",
       "      <th>131</th>\n",
       "      <td>2240.00</td>\n",
       "      <td>60480.00</td>\n",
       "      <td>2880.00</td>\n",
       "      <td>3200.00</td>\n",
       "      <td>10080.00</td>\n",
       "      <td>3747.00</td>\n",
       "    </tr>\n",
       "    <tr>\n",
       "      <th>1435</th>\n",
       "      <td>400.00</td>\n",
       "      <td>1680.00</td>\n",
       "      <td>560.00</td>\n",
       "      <td>400.00</td>\n",
       "      <td>800.00</td>\n",
       "      <td>0.00</td>\n",
       "    </tr>\n",
       "    <tr>\n",
       "      <th>796</th>\n",
       "      <td>160.00</td>\n",
       "      <td>320.00</td>\n",
       "      <td>160.00</td>\n",
       "      <td>80.00</td>\n",
       "      <td>320.00</td>\n",
       "      <td>529.00</td>\n",
       "    </tr>\n",
       "    <tr>\n",
       "      <th>983</th>\n",
       "      <td>960.00</td>\n",
       "      <td>880.00</td>\n",
       "      <td>240.00</td>\n",
       "      <td>1040.00</td>\n",
       "      <td>1200.00</td>\n",
       "      <td>509.00</td>\n",
       "    </tr>\n",
       "    <tr>\n",
       "      <th>1817</th>\n",
       "      <td>5280.00</td>\n",
       "      <td>32640.00</td>\n",
       "      <td>2960.00</td>\n",
       "      <td>4560.00</td>\n",
       "      <td>6800.00</td>\n",
       "      <td>0.00</td>\n",
       "    </tr>\n",
       "    <tr>\n",
       "      <th>1697</th>\n",
       "      <td>2480.00</td>\n",
       "      <td>44640.00</td>\n",
       "      <td>4960.00</td>\n",
       "      <td>7600.00</td>\n",
       "      <td>6320.00</td>\n",
       "      <td>2644.00</td>\n",
       "    </tr>\n",
       "    <tr>\n",
       "      <th>Mean</th>\n",
       "      <td>2056.00</td>\n",
       "      <td>17648.00</td>\n",
       "      <td>1984.00</td>\n",
       "      <td>3208.00</td>\n",
       "      <td>3592.00</td>\n",
       "      <td>896.70</td>\n",
       "    </tr>\n",
       "  </tbody>\n",
       "</table>\n",
       "</div>"
      ],
      "text/plain": [
       "      Amt Fresh Produce  Amt Meat and Seafood  Amt Household Supplies  \\\n",
       "634             6400.00              17360.00                 2320.00   \n",
       "1969            1680.00              10000.00                 4160.00   \n",
       "1958             560.00               6480.00                 1600.00   \n",
       "109              400.00               2000.00                    0.00   \n",
       "131             2240.00              60480.00                 2880.00   \n",
       "1435             400.00               1680.00                  560.00   \n",
       "796              160.00                320.00                  160.00   \n",
       "983              960.00                880.00                  240.00   \n",
       "1817            5280.00              32640.00                 2960.00   \n",
       "1697            2480.00              44640.00                 4960.00   \n",
       "Mean            2056.00              17648.00                 1984.00   \n",
       "\n",
       "      Amt Health and Wellness  Amt Beverages & Frozen Food  Amt Dairy and Eggs  \n",
       "634                   6400.00                       880.00                0.00  \n",
       "1969                  8080.00                      4960.00              831.00  \n",
       "1958                     0.00                      2160.00              707.00  \n",
       "109                    720.00                      2400.00                0.00  \n",
       "131                   3200.00                     10080.00             3747.00  \n",
       "1435                   400.00                       800.00                0.00  \n",
       "796                     80.00                       320.00              529.00  \n",
       "983                   1040.00                      1200.00              509.00  \n",
       "1817                  4560.00                      6800.00                0.00  \n",
       "1697                  7600.00                      6320.00             2644.00  \n",
       "Mean                  3208.00                      3592.00              896.70  "
      ]
     },
     "execution_count": 89,
     "metadata": {},
     "output_type": "execute_result"
    }
   ],
   "source": [
    "top_mean = top.copy()\n",
    "top_mean.index=top_mean.index+1\n",
    "top_mean.loc['Mean']=top_mean.mean()\n",
    "top_mean"
   ]
  },
  {
   "cell_type": "code",
   "execution_count": 90,
   "id": "632e006c-cfe8-4d98-9888-510df63eafcc",
   "metadata": {},
   "outputs": [
    {
     "data": {
      "text/plain": [
       "Text(0.5, 0, 'Amount Spend')"
      ]
     },
     "execution_count": 90,
     "metadata": {},
     "output_type": "execute_result"
    },
    {
     "data": {
      "image/png": "[encoded data removed]",
      "text/plain": [
       "<Figure size 432x288 with 1 Axes>"
      ]
     },
     "metadata": {},
     "output_type": "display_data"
    }
   ],
   "source": [
    "top_mean.loc['Mean'].sort_values(ascending=True).plot(kind='barh')\n",
    "plt.title('Average Sales of Specific Product by Top Customers')\n",
    "plt.xlabel('Amount Spend')"
   ]
  }
 ],
 "metadata": {
  "kernelspec": {
   "display_name": "Python 3 (ipykernel)",
   "language": "python",
   "name": "python3"
  },
  "language_info": {
   "codemirror_mode": {
    "name": "ipython",
    "version": 3
   },
   "file_extension": ".py",
   "mimetype": "text/x-python",
   "name": "python",
   "nbconvert_exporter": "python",
   "pygments_lexer": "ipython3",
   "version": "3.9.12"
  }
 },
 "nbformat": 4,
 "nbformat_minor": 5
}
